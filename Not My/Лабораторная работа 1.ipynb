{
 "cells": [
  {
   "cell_type": "markdown",
   "metadata": {},
   "source": [
    "### Задание"
   ]
  },
  {
   "cell_type": "markdown",
   "metadata": {},
   "source": [
    "Проверить принадлежность к пуассоновскому, геометрическому распределению случайной величины – количества подвижных единиц грузового поезда в сходе с рельсов минус единица – на основе критерия хи- квадрат. Уровень надежности принять равным 0.95, 0.99."
   ]
  },
  {
   "cell_type": "code",
   "execution_count": 2,
   "metadata": {},
   "outputs": [],
   "source": [
    "import matplotlib.pyplot as plt\n",
    "from scipy import stats\n",
    "import numpy as np\n",
    "import pandas as pd"
   ]
  },
  {
   "cell_type": "code",
   "execution_count": 3,
   "metadata": {},
   "outputs": [
    {
     "data": {
      "text/html": [
       "<div>\n",
       "<style scoped>\n",
       "    .dataframe tbody tr th:only-of-type {\n",
       "        vertical-align: middle;\n",
       "    }\n",
       "\n",
       "    .dataframe tbody tr th {\n",
       "        vertical-align: top;\n",
       "    }\n",
       "\n",
       "    .dataframe thead th {\n",
       "        text-align: right;\n",
       "    }\n",
       "</style>\n",
       "<table border=\"1\" class=\"dataframe\">\n",
       "  <thead>\n",
       "    <tr style=\"text-align: right;\">\n",
       "      <th></th>\n",
       "      <th>date</th>\n",
       "      <th>length</th>\n",
       "      <th>commonlength</th>\n",
       "      <th>maxder</th>\n",
       "      <th>dcar</th>\n",
       "      <th>speed</th>\n",
       "      <th>weight</th>\n",
       "      <th>load</th>\n",
       "      <th>curve</th>\n",
       "      <th>profile</th>\n",
       "      <th>type</th>\n",
       "      <th>y</th>\n",
       "    </tr>\n",
       "  </thead>\n",
       "  <tbody>\n",
       "    <tr>\n",
       "      <th>0</th>\n",
       "      <td>2013-01-03</td>\n",
       "      <td>68</td>\n",
       "      <td>70</td>\n",
       "      <td>61</td>\n",
       "      <td>1</td>\n",
       "      <td>6</td>\n",
       "      <td>4875</td>\n",
       "      <td>0.705669</td>\n",
       "      <td>0.005000</td>\n",
       "      <td>0.0000</td>\n",
       "      <td>2</td>\n",
       "      <td>0</td>\n",
       "    </tr>\n",
       "    <tr>\n",
       "      <th>1</th>\n",
       "      <td>2013-01-03</td>\n",
       "      <td>43</td>\n",
       "      <td>45</td>\n",
       "      <td>2</td>\n",
       "      <td>1</td>\n",
       "      <td>30</td>\n",
       "      <td>3955</td>\n",
       "      <td>0.999663</td>\n",
       "      <td>0.005000</td>\n",
       "      <td>NaN</td>\n",
       "      <td>2</td>\n",
       "      <td>0</td>\n",
       "    </tr>\n",
       "    <tr>\n",
       "      <th>2</th>\n",
       "      <td>2013-01-10</td>\n",
       "      <td>70</td>\n",
       "      <td>72</td>\n",
       "      <td>65</td>\n",
       "      <td>4</td>\n",
       "      <td>10</td>\n",
       "      <td>1658</td>\n",
       "      <td>0.009938</td>\n",
       "      <td>NaN</td>\n",
       "      <td>NaN</td>\n",
       "      <td>2</td>\n",
       "      <td>3</td>\n",
       "    </tr>\n",
       "    <tr>\n",
       "      <th>3</th>\n",
       "      <td>2013-01-10</td>\n",
       "      <td>56</td>\n",
       "      <td>58</td>\n",
       "      <td>44</td>\n",
       "      <td>10</td>\n",
       "      <td>29</td>\n",
       "      <td>2651</td>\n",
       "      <td>0.352743</td>\n",
       "      <td>0.003333</td>\n",
       "      <td>-0.0164</td>\n",
       "      <td>2</td>\n",
       "      <td>9</td>\n",
       "    </tr>\n",
       "    <tr>\n",
       "      <th>4</th>\n",
       "      <td>2013-01-12</td>\n",
       "      <td>68</td>\n",
       "      <td>71</td>\n",
       "      <td>23</td>\n",
       "      <td>1</td>\n",
       "      <td>5</td>\n",
       "      <td>2522</td>\n",
       "      <td>0.204177</td>\n",
       "      <td>0.003333</td>\n",
       "      <td>NaN</td>\n",
       "      <td>2</td>\n",
       "      <td>0</td>\n",
       "    </tr>\n",
       "  </tbody>\n",
       "</table>\n",
       "</div>"
      ],
      "text/plain": [
       "        date  length  commonlength  maxder  dcar  speed  weight      load  \\\n",
       "0 2013-01-03      68            70      61     1      6    4875  0.705669   \n",
       "1 2013-01-03      43            45       2     1     30    3955  0.999663   \n",
       "2 2013-01-10      70            72      65     4     10    1658  0.009938   \n",
       "3 2013-01-10      56            58      44    10     29    2651  0.352743   \n",
       "4 2013-01-12      68            71      23     1      5    2522  0.204177   \n",
       "\n",
       "      curve  profile  type  y  \n",
       "0  0.005000   0.0000     2  0  \n",
       "1  0.005000      NaN     2  0  \n",
       "2       NaN      NaN     2  3  \n",
       "3  0.003333  -0.0164     2  9  \n",
       "4  0.003333      NaN     2  0  "
      ]
     },
     "execution_count": 3,
     "metadata": {},
     "output_type": "execute_result"
    }
   ],
   "source": [
    "df = pd.read_excel(\"WO.xlsx\")\n",
    "df['y'] = df['dcar'] - 1\n",
    "df.head()"
   ]
  },
  {
   "cell_type": "code",
   "execution_count": 4,
   "metadata": {},
   "outputs": [
    {
     "data": {
      "image/png": "[encoded data removed]",
      "text/plain": [
       "<Figure size 1000x500 with 1 Axes>"
      ]
     },
     "metadata": {},
     "output_type": "display_data"
    }
   ],
   "source": [
    "fig, ax = plt.subplots(1, 1, figsize=(10, 5))\n",
    "ax.hist(df['y'], bins=20, color='blue', edgecolor='black', alpha=0.7)\n",
    "ax.set_xlabel('y')\n",
    "ax.set_ylabel('Частота')\n",
    "plt.show()"
   ]
  },
  {
   "cell_type": "markdown",
   "metadata": {},
   "source": [
    "### Распределение Пуассона\n",
    "\n",
    "$$\n",
    "P(X = k) = \\frac{\\lambda^k e^{-\\lambda}}{k!}\n",
    "$$\n",
    "\n",
    "где:\n",
    "- $P(X = k)$ — вероятность того, что случайная величина $X$ примет значение $k$,\n",
    "- $\\lambda$ — среднее число событий в фиксированном интервале,\n",
    "- $k$ — количество событий,\n",
    "- $e$ — основание натурального логарифма (приблизительно равно 2.71828),\n",
    "- $k!$ — факториал числа $k$\n",
    "\n",
    "Вывдвежение гипотез\n",
    "\n",
    "$H_0: X \\sim \\Pi(\\theta)$\n",
    "\n",
    "$H_1: X \\nsim \\Pi(\\theta)$\n",
    "\n",
    "### ММП\n",
    "\n",
    "$$ L(x_1, x_2, ..., x_n, \\theta) = \\prod^n_{k=1} P(x = x_k, \\theta) = \\prod^n_{k=1}  \\frac{\\theta^{x_k} e^{-\\theta}}{x_k!}$$\n",
    "$$ \\prod^n_{k=1}  \\frac{\\theta^{x_k} e^{-\\theta}}{x_k!} = \\prod^n_{k=1} \\theta^{x_k} \\cdot \\prod^n_{k=1} e^{-\\theta} \\cdot \\prod^n_{k=1} \\frac{1}{x_k!}$$\n",
    "\n",
    "$$ \\overline L (x_1, x_2, ..., x_n, \\theta) = \\theta^{\\sum_{k=1}^n x_k} \\cdot e^{-n\\theta} \\cdot \\prod^n_{k=1} \\frac{1}{x_k!} $$\n",
    "\n",
    "$$ log \\overline L (x_1, x_2, ..., x_n, \\theta) = \\sum_{k=1}^n x_k \\cdot log \\theta - n\\theta + log (\\prod^n_{k=1} \\frac{1}{x_k!})$$\n",
    "\n",
    "$$\\frac{d(log(\\overline L))}{d\\theta} = \\frac{\\sum_{k=1}^n x_k}{\\theta} - n = 0 $$\n",
    "\n",
    "$$ \\theta^{*} = \\frac{\\sum_{k=1}^n x_k}{n}$$"
   ]
  },
  {
   "cell_type": "code",
   "execution_count": 5,
   "metadata": {},
   "outputs": [],
   "source": [
    "theta = df['y'].mean() "
   ]
  },
  {
   "cell_type": "code",
   "execution_count": 6,
   "metadata": {},
   "outputs": [],
   "source": [
    "x = df['y'].value_counts().reset_index()\n",
    "unique_values,  observed_freq = [i for i in range(x['y'].max()+1)], [0 if x[x['y'] == i].empty else x[x['y'] == i]['count'].iloc[0] for i in range(x['y'].max()+1)]\n",
    "unique_values,  observed_freq = np.array(unique_values),  np.array(observed_freq)"
   ]
  },
  {
   "cell_type": "code",
   "execution_count": 7,
   "metadata": {},
   "outputs": [],
   "source": [
    "poisson_probs = stats.poisson.pmf(unique_values, theta)\n",
    "P_pois = 1 - np.sum(poisson_probs)"
   ]
  },
  {
   "cell_type": "code",
   "execution_count": 8,
   "metadata": {},
   "outputs": [
    {
     "data": {
      "text/plain": [
       "array([ 0,  1,  2,  3,  4,  5,  6,  7,  8,  9, 10, 11, 12, 13, 14, 15, 16,\n",
       "       17, 18, 19, 20, 21])"
      ]
     },
     "execution_count": 8,
     "metadata": {},
     "output_type": "execute_result"
    }
   ],
   "source": [
    "unique_values"
   ]
  },
  {
   "cell_type": "code",
   "execution_count": 9,
   "metadata": {},
   "outputs": [
    {
     "data": {
      "text/plain": [
       "0.9999999999999928"
      ]
     },
     "execution_count": 9,
     "metadata": {},
     "output_type": "execute_result"
    }
   ],
   "source": [
    "sum(poisson_probs)"
   ]
  },
  {
   "cell_type": "code",
   "execution_count": 10,
   "metadata": {},
   "outputs": [
    {
     "name": "stdout",
     "output_type": "stream",
     "text": [
      "Z_pois: 395999325195.7964\n"
     ]
    }
   ],
   "source": [
    "# Статистика критерия для пуассоновского распределения\n",
    "n = len(df)\n",
    "max=len(unique_values)\n",
    "Z_pois = n * P_pois\n",
    "for i in range(max):\n",
    "    Z_pois += ((observed_freq[i] - n * poisson_probs[i]) ** 2 )/(n * poisson_probs[i])\n",
    "print(\"Z_pois:\", Z_pois)"
   ]
  },
  {
   "cell_type": "code",
   "execution_count": 11,
   "metadata": {},
   "outputs": [
    {
     "name": "stdout",
     "output_type": "stream",
     "text": [
      "Xi^2(0.95, 22) = 33.92443847144381\n",
      "Xi^2(0.99, 22) = 40.289360437593864\n"
     ]
    }
   ],
   "source": [
    "Xi_0_95 = stats.chi2.ppf(0.95, max)\n",
    "print(f\"Xi^2({0.95}, {max}) = {Xi_0_95}\")\n",
    "Xi_0_99 = stats.chi2.ppf(0.99, max)\n",
    "print(f\"Xi^2({0.99}, {max}) = {Xi_0_99}\")"
   ]
  },
  {
   "cell_type": "code",
   "execution_count": 12,
   "metadata": {},
   "outputs": [
    {
     "data": {
      "text/plain": [
       "array([ 0,  1,  2,  3,  4,  5,  6,  7,  8,  9, 10, 11, 12, 13, 14, 15, 16,\n",
       "       17, 18, 19, 20, 21])"
      ]
     },
     "execution_count": 12,
     "metadata": {},
     "output_type": "execute_result"
    }
   ],
   "source": [
    "unique_values"
   ]
  },
  {
   "cell_type": "markdown",
   "metadata": {},
   "source": [
    "Значение найденной статистики больше значения функции Хи-квадрат при любом из заданных уровней надежности, оно попадает в критическую область, гипотеза о принадлежности случайной величины к пуассоновскому распределению не принимается."
   ]
  },
  {
   "cell_type": "code",
   "execution_count": 13,
   "metadata": {},
   "outputs": [
    {
     "data": {
      "image/png": "[encoded data removed]",
      "text/plain": [
       "<Figure size 1000x500 with 1 Axes>"
      ]
     },
     "metadata": {},
     "output_type": "display_data"
    }
   ],
   "source": [
    "fig, ax = plt.subplots(1, 1, figsize=(10, 5))\n",
    "ax.bar(unique_values - 0.2, height=observed_freq/len(df), color='red', edgecolor='black', width=0.4, alpha=0.7)\n",
    "ax.bar([i + 0.2 for i in range(unique_values.max())], height=[stats.poisson.pmf(i, theta) for i in range(unique_values.max())], color='blue', edgecolor='black', width=0.4, alpha=0.7)\n",
    "ax.set_xlabel('y')\n",
    "ax.set_ylabel('Частота')\n",
    "ax.legend(['Наблюдаемые частоты', 'Теоретические частоты'])\n",
    "plt.show()"
   ]
  },
  {
   "cell_type": "markdown",
   "metadata": {},
   "source": [
    "### Геометрическое распределение\n",
    "\n",
    "$$\n",
    "P(X = k) = (1 - p)^{k} p\n",
    "$$\n",
    "\n",
    "где:\n",
    "- $P(X = k)$ — вероятность того, что случайная величина $X$ примет значение $k$,\n",
    "- $p$ — вероятность успеха в каждом испытании,\n",
    "- $k$ — количество испытаний до первого успеха (включительно).\n",
    "\n",
    "Гипотезы\n",
    "$$ H_0: X \\sim \\text{Geom}(p) $$\n",
    "\n",
    "$$ H_1: X \\nsim \\text{Geom}(p) $$\n",
    "\n",
    "ММП\n",
    "\n",
    "$$ L(x_1, x_2, ..., x_n, p) = \\prod_{k=1}^n P(X = x_k, p) = \\prod_{k=1}^n (1 - p)^{x_k} p $$\n",
    "\n",
    "\n",
    "$$ L(x_1, x_2, ..., x_n, p) = p^n \\cdot (1 - p)^{\\sum_{k=1}^n (x_k)} $$\n",
    "\n",
    "\n",
    "$$ \\log L(x_1, x_2, ..., x_n, p) = n \\log p + \\left( \\sum_{k=1}^n (x_k) \\right) \\log (1 - p) $$\n",
    "\n",
    "\n",
    "$$ \\frac{d(\\log L)}{dp} = \\frac{n}{p} - \\frac{\\sum_{k=1}^n (x_k)}{1 - p} = 0 $$\n",
    "\n",
    "Решим уравнение относительно ( p ):\n",
    "\n",
    "$$ \\frac{n}{p} = \\frac{\\sum_{k=1}^n (x_k)}{1 - p} $$\n",
    "\n",
    "$$ n(1 - p) = p \\sum_{k=1}^n (x_k) $$\n",
    "\n",
    "$$ n - np = p \\sum_{k=1}^n (x_k) $$\n",
    "\n",
    "$$ n = p \\left( n + \\sum_{k=1}^n (x_k) \\right) $$\n",
    "\n",
    "$$ p = \\frac{n}{n + \\sum_{k=1}^n (x_k)} $$\n",
    "\n",
    "Таким образом, оценка параметра ( p ) методом максимального правдоподобия:\n",
    "\n",
    "$$ p^{*} = \\frac{n}{n + \\sum_{k=1}^n (x_k)} $$\n",
    "\n",
    "$$ p^{*} = \\frac{1}{1 + \\frac{\\sum_{k=1}^n (x_k)}{n}} $$"
   ]
  },
  {
   "cell_type": "code",
   "execution_count": 14,
   "metadata": {},
   "outputs": [
    {
     "data": {
      "text/plain": [
       "0.3053435114503817"
      ]
     },
     "execution_count": 14,
     "metadata": {},
     "output_type": "execute_result"
    }
   ],
   "source": [
    "p = 1 / (df['y'].mean() + 1)\n",
    "p"
   ]
  },
  {
   "cell_type": "code",
   "execution_count": 15,
   "metadata": {},
   "outputs": [],
   "source": [
    "geom_probs = stats.geom.pmf(unique_values+1, p)\n",
    "P_geom = 1 - np.sum(geom_probs)"
   ]
  },
  {
   "cell_type": "code",
   "execution_count": 16,
   "metadata": {},
   "outputs": [
    {
     "name": "stdout",
     "output_type": "stream",
     "text": [
      "Z_geom: 175.38669932486246\n"
     ]
    }
   ],
   "source": [
    "Z_geom = n * P_geom\n",
    "for i in range(max):\n",
    "    Z_geom += ((observed_freq[i] - n * geom_probs[i]) ** 2 )/(n * geom_probs[i])\n",
    "print(\"Z_geom:\", Z_geom)"
   ]
  },
  {
   "cell_type": "code",
   "execution_count": 17,
   "metadata": {},
   "outputs": [
    {
     "name": "stdout",
     "output_type": "stream",
     "text": [
      "Xi^2(0.95, 22) = 33.92443847144381\n",
      "Xi^2(0.99, 22) = 40.289360437593864\n"
     ]
    }
   ],
   "source": [
    "print(f\"Xi^2({0.95}, {max}) = {Xi_0_95}\")\n",
    "print(f\"Xi^2({0.99}, {max}) = {Xi_0_99}\")"
   ]
  },
  {
   "cell_type": "markdown",
   "metadata": {},
   "source": [
    "Значение найденной статистики больше значения функции Хи-квадрат при любом из заданных уровней надежности, оно попадает в критическую область, гипотеза о принадлежности случайной величины к геометрическому распределению не принимается."
   ]
  },
  {
   "cell_type": "code",
   "execution_count": 18,
   "metadata": {},
   "outputs": [
    {
     "data": {
      "image/png": "[encoded data removed]",
      "text/plain": [
       "<Figure size 1000x500 with 1 Axes>"
      ]
     },
     "metadata": {},
     "output_type": "display_data"
    }
   ],
   "source": [
    "fig, ax = plt.subplots(1, 1, figsize=(10, 5))\n",
    "ax.bar(unique_values - 0.2, height=observed_freq/len(df), color='red', edgecolor='black', width=0.4, alpha=0.7)\n",
    "ax.bar([i + 0.2 for i in range(unique_values.max())], height=[stats.geom.pmf(i+1, p) for i in range(unique_values.max())], color='blue', edgecolor='black', width=0.4, alpha=0.7)\n",
    "ax.set_xlabel('y')\n",
    "ax.set_ylabel('Частота')\n",
    "ax.legend(['Наблюдаемые частоты', 'Теоретические частоты'])\n",
    "plt.show()"
   ]
  },
  {
   "cell_type": "markdown",
   "metadata": {},
   "source": [
    "Предполагаем, что полученный результат связан с выбросом в исходных данных. Исключим одно наблюдение с максимальным значением"
   ]
  },
  {
   "cell_type": "code",
   "execution_count": 19,
   "metadata": {},
   "outputs": [
    {
     "name": "stdout",
     "output_type": "stream",
     "text": [
      "Z_pois: 319.1642008103951\n"
     ]
    }
   ],
   "source": [
    "new_y = np.array([a for a in df['y'] if a < df['y'].max()])\n",
    "\n",
    "theta = new_y.mean() \n",
    "\n",
    "x = df[df['y'] != df['y'].max()].value_counts().reset_index()\n",
    "unique_values,  observed_freq = [i for i in range(x['y'].max()+1)], [0 if x[x['y'] == i].empty else x[x['y'] == i]['count'].iloc[0] for i in range(x['y'].max()+1)]\n",
    "unique_values,  observed_freq = np.array(unique_values),  np.array(observed_freq)\n",
    "poisson_probs = stats.poisson.pmf(unique_values, theta)\n",
    "P_pois = 1 - np.sum(poisson_probs)\n",
    "\n",
    "n = len(new_y)\n",
    "max=len(unique_values)\n",
    "Z_pois = n * P_pois\n",
    "for i in range(max):\n",
    "    Z_pois += ((observed_freq[i] - n * poisson_probs[i]) ** 2 )/(n * poisson_probs[i])\n",
    "print(\"Z_pois:\", Z_pois)"
   ]
  },
  {
   "cell_type": "code",
   "execution_count": 20,
   "metadata": {},
   "outputs": [
    {
     "data": {
      "text/plain": [
       "9"
      ]
     },
     "execution_count": 20,
     "metadata": {},
     "output_type": "execute_result"
    }
   ],
   "source": [
    "x['y'].max()"
   ]
  },
  {
   "cell_type": "code",
   "execution_count": 21,
   "metadata": {},
   "outputs": [
    {
     "name": "stdout",
     "output_type": "stream",
     "text": [
      "Xi^2(0.95, 10) = 18.307038053275146\n",
      "Xi^2(0.99, 10) = 23.209251158954356\n"
     ]
    }
   ],
   "source": [
    "Xi_0_95 = stats.chi2.ppf(0.95, max)\n",
    "print(f\"Xi^2({0.95}, {max}) = {Xi_0_95}\")\n",
    "Xi_0_99 = stats.chi2.ppf(0.99, max)\n",
    "print(f\"Xi^2({0.99}, {max}) = {Xi_0_99}\")"
   ]
  },
  {
   "cell_type": "markdown",
   "metadata": {},
   "source": [
    "Значение найденной статистики больше значения функции Хи-квадрат при любом из заданных уровней надежности, оно попадает в критическую область, гипотеза о принадлежности случайной величины к пуассоновскому распределению не принимается."
   ]
  },
  {
   "cell_type": "code",
   "execution_count": 22,
   "metadata": {},
   "outputs": [
    {
     "name": "stdout",
     "output_type": "stream",
     "text": [
      "Z_geom: 33.484620584270345\n",
      "Xi^2(0.95, 10) = 18.307038053275146\n",
      "Xi^2(0.99, 10) = 23.209251158954356\n"
     ]
    }
   ],
   "source": [
    "p = 1 / (new_y.mean() + 1)\n",
    "\n",
    "geom_probs = stats.geom.pmf(unique_values+1, p)\n",
    "P_geom = 1 - np.sum(geom_probs)\n",
    "\n",
    "Z_geom = n * P_geom\n",
    "for i in range(max):\n",
    "    Z_geom += ((observed_freq[i] - n * geom_probs[i]) ** 2 )/(n * geom_probs[i])\n",
    "print(\"Z_geom:\", Z_geom)\n",
    "\n",
    "print(f\"Xi^2({0.95}, {max}) = {Xi_0_95}\")\n",
    "print(f\"Xi^2({0.99}, {max}) = {Xi_0_99}\")"
   ]
  },
  {
   "cell_type": "markdown",
   "metadata": {},
   "source": [
    "Значение найденной статистики больше значения функции Хи-квадрат при любом из заданных уровней надежности, оно попадает в критическую область, гипотеза о принадлежности случайной величины к геометрическому распределению не принимается."
   ]
  },
  {
   "cell_type": "markdown",
   "metadata": {},
   "source": [
    "### Заключение"
   ]
  },
  {
   "cell_type": "markdown",
   "metadata": {},
   "source": [
    "В ходе выполнения работы были проведены статистические проверки гипотез о принадлежности случайной величины $\\tilde{X}=X-1$ (где $X$ --  количество подвижных единиц грузового поезда в сходе с рельсов) к пуассоновскому и геометрическому распределениям. Использовался критерий согласия $\\chi^2$  с уровнями надежности $0.95$ и $0.99$. Исходные данные не соответствуют ни пуассоновскому, ни геометрическому распределению даже после исключения аномальных наблюдений."
   ]
  }
 ],
 "metadata": {
  "kernelspec": {
   "display_name": "Python 3",
   "language": "python",
   "name": "python3"
  },
  "language_info": {
   "codemirror_mode": {
    "name": "ipython",
    "version": 3
   },
   "file_extension": ".py",
   "mimetype": "text/x-python",
   "name": "python",
   "nbconvert_exporter": "python",
   "pygments_lexer": "ipython3",
   "version": "3.12.0"
  }
 },
 "nbformat": 4,
 "nbformat_minor": 2
}
