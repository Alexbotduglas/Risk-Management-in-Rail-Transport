{
 "cells": [
  {
   "cell_type": "markdown",
   "metadata": {},
   "source": [
    "### Задание"
   ]
  },
  {
   "cell_type": "markdown",
   "metadata": {},
   "source": [
    "Ознакомиться со структурой датасета, в котором хранятся сведения о результатах сходов/крушений подвижного состава вне стрелочных переводов по причине неисправности подвижного состава."
   ]
  },
  {
   "cell_type": "code",
   "execution_count": 1,
   "metadata": {},
   "outputs": [
    {
     "data": {
      "text/html": [
       "<div>\n",
       "<style scoped>\n",
       "    .dataframe tbody tr th:only-of-type {\n",
       "        vertical-align: middle;\n",
       "    }\n",
       "\n",
       "    .dataframe tbody tr th {\n",
       "        vertical-align: top;\n",
       "    }\n",
       "\n",
       "    .dataframe thead th {\n",
       "        text-align: right;\n",
       "    }\n",
       "</style>\n",
       "<table border=\"1\" class=\"dataframe\">\n",
       "  <thead>\n",
       "    <tr style=\"text-align: right;\">\n",
       "      <th></th>\n",
       "      <th>date</th>\n",
       "      <th>length</th>\n",
       "      <th>commonlength</th>\n",
       "      <th>maxder</th>\n",
       "      <th>dcar</th>\n",
       "      <th>speed</th>\n",
       "      <th>weight</th>\n",
       "      <th>load</th>\n",
       "      <th>curve</th>\n",
       "      <th>profile</th>\n",
       "      <th>type</th>\n",
       "    </tr>\n",
       "  </thead>\n",
       "  <tbody>\n",
       "    <tr>\n",
       "      <th>0</th>\n",
       "      <td>2013-01-03</td>\n",
       "      <td>68</td>\n",
       "      <td>70</td>\n",
       "      <td>61</td>\n",
       "      <td>1</td>\n",
       "      <td>6</td>\n",
       "      <td>4875</td>\n",
       "      <td>0.705669</td>\n",
       "      <td>0.005000</td>\n",
       "      <td>0.0000</td>\n",
       "      <td>2</td>\n",
       "    </tr>\n",
       "    <tr>\n",
       "      <th>1</th>\n",
       "      <td>2013-01-03</td>\n",
       "      <td>43</td>\n",
       "      <td>45</td>\n",
       "      <td>2</td>\n",
       "      <td>1</td>\n",
       "      <td>30</td>\n",
       "      <td>3955</td>\n",
       "      <td>0.999663</td>\n",
       "      <td>0.005000</td>\n",
       "      <td>NaN</td>\n",
       "      <td>2</td>\n",
       "    </tr>\n",
       "    <tr>\n",
       "      <th>2</th>\n",
       "      <td>2013-01-10</td>\n",
       "      <td>70</td>\n",
       "      <td>72</td>\n",
       "      <td>65</td>\n",
       "      <td>4</td>\n",
       "      <td>10</td>\n",
       "      <td>1658</td>\n",
       "      <td>0.009938</td>\n",
       "      <td>NaN</td>\n",
       "      <td>NaN</td>\n",
       "      <td>2</td>\n",
       "    </tr>\n",
       "    <tr>\n",
       "      <th>3</th>\n",
       "      <td>2013-01-10</td>\n",
       "      <td>56</td>\n",
       "      <td>58</td>\n",
       "      <td>44</td>\n",
       "      <td>10</td>\n",
       "      <td>29</td>\n",
       "      <td>2651</td>\n",
       "      <td>0.352743</td>\n",
       "      <td>0.003333</td>\n",
       "      <td>-0.0164</td>\n",
       "      <td>2</td>\n",
       "    </tr>\n",
       "    <tr>\n",
       "      <th>4</th>\n",
       "      <td>2013-01-12</td>\n",
       "      <td>68</td>\n",
       "      <td>71</td>\n",
       "      <td>23</td>\n",
       "      <td>1</td>\n",
       "      <td>5</td>\n",
       "      <td>2522</td>\n",
       "      <td>0.204177</td>\n",
       "      <td>0.003333</td>\n",
       "      <td>NaN</td>\n",
       "      <td>2</td>\n",
       "    </tr>\n",
       "  </tbody>\n",
       "</table>\n",
       "</div>"
      ],
      "text/plain": [
       "        date  length  commonlength  maxder  dcar  speed  weight      load  \\\n",
       "0 2013-01-03      68            70      61     1      6    4875  0.705669   \n",
       "1 2013-01-03      43            45       2     1     30    3955  0.999663   \n",
       "2 2013-01-10      70            72      65     4     10    1658  0.009938   \n",
       "3 2013-01-10      56            58      44    10     29    2651  0.352743   \n",
       "4 2013-01-12      68            71      23     1      5    2522  0.204177   \n",
       "\n",
       "      curve  profile  type  \n",
       "0  0.005000   0.0000     2  \n",
       "1  0.005000      NaN     2  \n",
       "2       NaN      NaN     2  \n",
       "3  0.003333  -0.0164     2  \n",
       "4  0.003333      NaN     2  "
      ]
     },
     "execution_count": 1,
     "metadata": {},
     "output_type": "execute_result"
    }
   ],
   "source": [
    "import matplotlib.pyplot as plt\n",
    "import numpy as np\n",
    "import pandas as pd\n",
    "import seaborn as sns\n",
    "from sklearn.model_selection import train_test_split\n",
    "from sklearn.linear_model import LinearRegression\n",
    "from sklearn.metrics import mean_absolute_error\n",
    "\n",
    "df = pd.read_excel(\"WO.xlsx\")\n",
    "df.head()"
   ]
  },
  {
   "cell_type": "markdown",
   "metadata": {},
   "source": [
    "`length` – количество вагонов в поезде;\n",
    "\n",
    "`commonlength` – количество вагонов и секций локомотива в поезде;\n",
    "\n",
    "`maxder` – количество вагонов и секций локомотива в поезде минус номер первой сошедшей с рельсов подвижной единицы (от головы поезда) + 1;\n",
    "\n",
    "`dcar` – количество вагонов и секций локомотива в сходе;\n",
    "\n",
    "`speed` – скорость поезда в месте схода, км/ч;\n",
    "\n",
    "`weight` – вес поезда, т.;\n",
    "\n",
    "`load` – показатель, характеризующий степень загруженности поезда полезной нагрузкой, чем меньше порожних вагонов, тем больше этот показатель;\n",
    "\n",
    "`curve` – кривизна пути в месте схода;\n",
    "\n",
    "`profile` – величина профиля пути в месте схода в тысячных."
   ]
  },
  {
   "cell_type": "markdown",
   "metadata": {},
   "source": [
    "Загрузить указанный датасет в любой математический пакет по выбору студента.\n",
    "\n",
    "Построить различные зависимости вида $dcar=f(length, \\dots,profile)$ на основе метода наименьших квадратов, полагая, что\n",
    "\n",
    "$$ dcar_k = f(length_k, \\dots, profile_k)+\\varepsilon_k, $$\n",
    "где $k=1, \\dots, n, n$ - количество наблюдений, $\\varepsilon_1, \\dots, \\varepsilon_n$ - независимые одинаково распределенные ошибки.\n",
    "\n",
    "Построить не менее 10 таких зависимостей. Проводить построение зависимостей на выборках с вычеркиванием строк, в которых имеется хотя бы одно пропущенное наблюдение чего-либо; а также необходимо проводить построение зависимостей с вычеркиванием только тех строк, в которых пропущено необходимое для построения зависимости наблюдение.\n",
    "\n",
    "Для каждой построенной зависимости привести значения скорректированного коэффициента детерминации, средней абсолютной погрешности, средней относительной погрешности, оценку дисперсии ошибок.\n",
    "\n",
    "Определить наилучшую из построенных зависимостей и объяснить, почему она, на взгляд студента, является наилучшей.\n",
    "\n",
    "Определив вид наилучшей зависимости, разбить выборку на две части в пропорции: 70 на 30. Выбор разбиения предоставляется студенту: например, можно выбрать эти 70 процентов наблюдений случайным образом, можно же взять первые 70 процентов наблюдений по порядку их нахождения в датасете. На 70 процентах наблюдений провести обучение модели (то есть подбор неизвестных коэффициентов). На этих 70 процентах наблюдений вычислить значения\n",
    "- скорректированного коэффициента детерминации;\n",
    "- средней абсолютной погрешности;\n",
    "- средней относительной погрешности;\n",
    "- оценки дисперсии ошибок.\n",
    "\n",
    "А также для полученной модели на 30 процентах наблюдений, на которых модель не обучалась, привести значения\n",
    "- скорректированного коэффициента детерминации;\n",
    "- средней абсолютной погрешности;\n",
    "- средней относительной погрешности;\n",
    "- оценки дисперсии ошибок.\n",
    "\n",
    "Сделать вывод из полученных результатов."
   ]
  },
  {
   "cell_type": "markdown",
   "metadata": {},
   "source": [
    "### Решение"
   ]
  },
  {
   "cell_type": "markdown",
   "metadata": {},
   "source": [
    "Посчитаем коэффициенты корреляции между всеми столбцаи исходных данных, отобразим это на рисунке."
   ]
  },
  {
   "cell_type": "code",
   "execution_count": 2,
   "metadata": {},
   "outputs": [
    {
     "data": {
      "image/png": "[encoded data removed]",
      "text/plain": [
       "<Figure size 1000x600 with 2 Axes>"
      ]
     },
     "metadata": {},
     "output_type": "display_data"
    }
   ],
   "source": [
    "fig, ax = plt.subplots(1, 1, figsize=(10, 6))\n",
    "corr = df[['length', 'commonlength', 'maxder', 'speed', 'weight',\n",
    "       'load', 'curve', 'profile', 'type', 'dcar']].corr()\n",
    "sns.heatmap(corr, annot=True, ax=ax)\n",
    "plt.show()"
   ]
  },
  {
   "cell_type": "markdown",
   "metadata": {},
   "source": [
    "Напишем метод, который будет применять метод линейной регрессии `LinearRegression` из библиотеки `sklearn.linear_model`. Это и есть метод наименьших квадратов, который заключается минимизации функции:\n",
    "\n",
    "$$ F(\\beta) = \\sum\\limits_{k=1}^n(y_k-f(x, \\beta))^2 \\rightarrow \\min_{\\beta}, $$\n",
    "где $y_k, k=1,\\dots,n$ - набор скалярных экспериментальных данных, интересующий нас столбец таблицы `dcar`, $x_k$ - набор векторных экспериментальных данных и предполагается, что $y$ зависит от $x$. $f(x, \\beta)$ - скалярная функция, которая определяется вектором неизвестных параметров $\\beta$.\n",
    "\n",
    "Коэффиент детерминации ($R^2$), скорректированный коэффициент детерминации ($R_{adj}^2$), оценка дисперсии ошибок ($\\hat{D}[\\varepsilon_n]$) средняя абсолютная ($\\Delta$) и относительная ($\\delta$) погрешности рассчитываются согласно формулам:\n",
    "\n",
    "$$ R^2 = 1 - \\frac{\\sum\\limits_{k=1}^n\\left( y_k - f(x, \\beta) \\right)^2}{\\sum\\limits_{k=1}^n\\left( y_k - \\overline{y}_n \\right)^2}, $$\n",
    "\n",
    "$$ R_{adj}^2 = 1 + \\frac{n-1}{n-p} (R^2-1), $$\n",
    "\n",
    "$$ \\hat{D}[\\varepsilon_n] = \\frac{\\sum\\limits_{k=1}^n\\left( y_k - f(x, \\beta) \\right)^2}{n-p}, $$\n",
    "\n",
    "$$ \\Delta = \\frac{1}{n}\\sum\\limits_{k=1}^n \\left| y_k - f(x, \\beta) \\right|, $$\n",
    "\n",
    "$$ \\delta = \\frac{1}{n}\\sum\\limits_{k=1}^n \\frac{\\left| y_k - f(x, \\beta) \\right|}{y_k}, $$\n",
    "здесь $n$ - количество наблюдеений, $p$ - количество столбцов, используемых для построения функции $f(x, \\beta)$"
   ]
  },
  {
   "cell_type": "code",
   "execution_count": 3,
   "metadata": {},
   "outputs": [],
   "source": [
    "def solve(df):\n",
    "    y = df['dcar']\n",
    "    X = df.drop(['dcar'], axis=1)\n",
    "    model = LinearRegression()\n",
    "    model.fit(X, y)\n",
    "    y_pred = model.predict(X)\n",
    "    \n",
    "    n = X.shape[0]\n",
    "    p = X.shape[1]\n",
    "\n",
    "    y_np = y.to_numpy()\n",
    "    r2 = 1 - sum([(y_np[i] - y_pred[i])**2 for i in range(len(y_np))])/sum([(y_np[i] - np.mean(y_np))**2 for i in range(len(y))])\n",
    "    adj_r2 = 1 - (1-r2)*(n-1)/(n-p-1)\n",
    "    mae = mean_absolute_error(y, y_pred)\n",
    "    mre = np.mean([abs((true - pred)/true) if true != 0 else 0 \n",
    "                for true, pred in zip(y, y_pred)])\n",
    "    error_variance = np.var(y - y_pred, ddof=p+1)\n",
    "    \n",
    "    return {\n",
    "        'names': model.feature_names_in_,\n",
    "        'intercept': model.intercept_,\n",
    "        'params': model.coef_,\n",
    "        'y': y.to_numpy(),\n",
    "        'y_pred': y_pred,\n",
    "        'r2': r2,\n",
    "        'adj_r2': adj_r2,\n",
    "        'mae': mae,\n",
    "        'mre': mre,\n",
    "        'error_variance': error_variance\n",
    "    }"
   ]
  },
  {
   "cell_type": "code",
   "execution_count": 5,
   "metadata": {},
   "outputs": [],
   "source": [
    "def predict_dcar(df):\n",
    "    X = df.drop('dcar', axis=1)\n",
    "    y = df['dcar']\n",
    "    X_train, X_test, y_train, y_test = train_test_split(X, y, test_size=0.3)\n",
    "    model = LinearRegression()\n",
    "    model.fit(X_train, y_train)\n",
    "    y_train_pred = model.predict(X_train)\n",
    "    n_train = X_train.shape[0]\n",
    "    p_train = X_train.shape[1]\n",
    "\n",
    "    r2_train = model.score(X_train, y_train)\n",
    "    adj_r2_train = 1 - (1-r2_train)*(n_train-1)/(n_train-p_train-1)\n",
    "    mae_train = mean_absolute_error(y_train, y_train_pred)\n",
    "    mre_train = np.mean([abs((true - pred)/true) if true != 0 else 0 \n",
    "                for true, pred in zip(y_train, y_train_pred)])\n",
    "    error_variance_train = np.var(y_train - y_train_pred, ddof=p_train+1)\n",
    "\n",
    "    y_test_pred = model.predict(X_test)\n",
    "\n",
    "    n_test = X_test.shape[0]\n",
    "    p_test = X_test.shape[1]\n",
    "    r2_test = model.score(X_test, y_test)\n",
    "    adj_r2_test = 1 - (1-r2_test)*(n_test-1)/(n_test-p_test-1)\n",
    "    mae_test = mean_absolute_error(y_test, y_test_pred)\n",
    "    mre_test = np.mean([abs((true - pred)/true) if true != 0 else 0 \n",
    "                for true, pred in zip(y_test, y_test_pred)])\n",
    "    error_variance_test = np.var(y_test - y_test_pred, ddof=p_test+1)\n",
    "    \n",
    "    return {\n",
    "        'params': model.coef_,\n",
    "        'y_train': y_train.to_numpy(),\n",
    "        'y_train_pred': y_train_pred,\n",
    "        'y_test': y_test.to_numpy(),\n",
    "        'y_test_pred': y_test_pred,\n",
    "        'r2_train': r2_train,\n",
    "        'adj_r2_train': adj_r2_train,\n",
    "        'mae_train': mae_train,\n",
    "        'mre_train': mre_train,\n",
    "        'error_variance_train': error_variance_train,\n",
    "        'r2_test': r2_test,\n",
    "        'adj_r2_test': adj_r2_test,\n",
    "        'mae_test': mae_test,\n",
    "        'mre_test': mre_test,\n",
    "        'error_variance_test': error_variance_test\n",
    "    }"
   ]
  },
  {
   "cell_type": "markdown",
   "metadata": {},
   "source": [
    "Пострим зависимость столбца `dcar` от всех остальных, за исключением столбца `load`. Если в строке имеется хотя бы одно пропущенное значение, строка исключается."
   ]
  },
  {
   "cell_type": "code",
   "execution_count": 6,
   "metadata": {},
   "outputs": [
    {
     "name": "stdout",
     "output_type": "stream",
     "text": [
      "dcar = 4.3031*length + -4.4941*commonlength + -0.0673*maxder + 0.2141*speed + 0.0008*weight + 291.1357*curve + -187.2305*profile + 20.1357\n"
     ]
    },
    {
     "data": {
      "text/plain": [
       "{'names': array(['length', 'commonlength', 'maxder', 'speed', 'weight', 'curve',\n",
       "        'profile'], dtype=object),\n",
       " 'intercept': 20.135736720944596,\n",
       " 'params': array([ 4.30310462e+00, -4.49410971e+00, -6.72521442e-02,  2.14147133e-01,\n",
       "         8.35307425e-04,  2.91135743e+02, -1.87230524e+02]),\n",
       " 'y': array([ 1, 10,  3,  4,  1,  1,  4,  1,  2], dtype=int64),\n",
       " 'y_pred': array([0.86947568, 9.9578379 , 2.91853155, 3.88127233, 0.98935559,\n",
       "        1.16251404, 4.25410217, 0.96268808, 2.00422266]),\n",
       " 'r2': 0.9980580933742826,\n",
       " 'adj_r2': 0.9844647469942611,\n",
       " 'mae': 0.09351974999115183,\n",
       " 'mre': 0.05196509381810041,\n",
       " 'error_variance': 0.132049650548782}"
      ]
     },
     "execution_count": 6,
     "metadata": {},
     "output_type": "execute_result"
    }
   ],
   "source": [
    "# Тест 1\n",
    "dd = df[['length', 'commonlength', 'maxder', 'speed', 'weight', 'curve', 'profile', 'dcar']].copy().dropna()\n",
    "res_1 = solve(dd)\n",
    "ans_1 = \"dcar = \"\n",
    "for i in range(len(res_1['params'])):\n",
    "    ans_1 += f\"{res_1['params'][i]:.4f}*{res_1['names'][i]} + \"\n",
    "ans_1 += str(format(res_1['intercept'], '.4f'))\n",
    "print(ans_1)\n",
    "res_1"
   ]
  },
  {
   "cell_type": "markdown",
   "metadata": {},
   "source": [
    "Можем заметить, что функция хорошо приблизила значения исходного столбца `dcar`, однако в датасете осталось всего 9 наблюдений. Было бы ошибочно считать результаты на столь маленькой выборке статистически значимыми. Поэтому в дальнейшем не будем рассматривать столбцы с большим количеством пропусков, а именно `curve` и `profile`. \n",
    "\n",
    "Разберем различные варианты набора столбцов $x$."
   ]
  },
  {
   "cell_type": "code",
   "execution_count": 7,
   "metadata": {},
   "outputs": [
    {
     "name": "stdout",
     "output_type": "stream",
     "text": [
      "dcar = -1.3116*length + 1.2291*commonlength + 0.0668*maxder + 0.1138*speed + 0.0011*weight + -4.3757*load + -1.1437\n"
     ]
    },
    {
     "data": {
      "text/plain": [
       "{'names': array(['length', 'commonlength', 'maxder', 'speed', 'weight', 'load'],\n",
       "       dtype=object),\n",
       " 'intercept': -1.143744969037583,\n",
       " 'params': array([-1.31159228e+00,  1.22909740e+00,  6.68333025e-02,  1.13811243e-01,\n",
       "         1.05200087e-03, -4.37565339e+00]),\n",
       " 'y': array([ 1,  1,  4, 10,  1,  4,  2,  1,  5,  2,  1,  3,  6,  3,  2,  1,  1,\n",
       "         2,  3,  1, 22,  7,  3,  1,  3,  2,  3,  4,  1,  1,  4,  9,  2,  1,\n",
       "         3,  1,  2,  6,  1,  1], dtype=int64),\n",
       " 'y_pred': array([ 2.5052377 ,  1.10165903,  2.72281852,  4.18130033,  0.79985506,\n",
       "         4.61547155,  6.96470361, -0.38404722,  4.55563641,  4.88080037,\n",
       "        -1.86446744,  3.08598011,  5.89425355,  1.83370344, -0.29417838,\n",
       "         2.09637418,  1.71967258,  6.39362387,  3.00977436,  2.87082375,\n",
       "        12.61074943,  3.89256418,  2.4992724 ,  5.66870806,  3.71235663,\n",
       "         3.68902635,  0.30741042,  3.97759625,  2.11815329,  2.47997021,\n",
       "         3.04052329,  3.57353692,  2.56955085,  4.83249732,  6.5394403 ,\n",
       "         1.06690286,  3.41198554,  5.70297456,  1.21643148,  1.40135433]),\n",
       " 'r2': 0.44430531097840387,\n",
       " 'adj_r2': 0.3432699129744773,\n",
       " 'mae': 1.897524914926627,\n",
       " 'mre': 0.9115228951229308,\n",
       " 'error_variance': 9.29483563553623}"
      ]
     },
     "execution_count": 7,
     "metadata": {},
     "output_type": "execute_result"
    }
   ],
   "source": [
    "# Тест 2\n",
    "dd = df[['length', 'commonlength', 'maxder', 'speed', 'weight', 'load', 'dcar']].copy().dropna()\n",
    "res_2 = solve(dd)\n",
    "ans_2 = \"dcar = \"\n",
    "for i in range(len(res_2['params'])):\n",
    "    ans_2 += f\"{res_2['params'][i]:.4f}*{res_2['names'][i]} + \"\n",
    "ans_2 += str(format(res_2['intercept'], '.4f'))\n",
    "print(ans_2)\n",
    "res_2"
   ]
  },
  {
   "cell_type": "code",
   "execution_count": 8,
   "metadata": {},
   "outputs": [
    {
     "name": "stdout",
     "output_type": "stream",
     "text": [
      "dcar = -0.0853*length + 0.0584*maxder + 0.1162*speed + 0.0012*weight + -5.0364*load + 2.4019\n"
     ]
    },
    {
     "data": {
      "text/plain": [
       "{'names': array(['length', 'maxder', 'speed', 'weight', 'load'], dtype=object),\n",
       " 'intercept': 2.401863433914237,\n",
       " 'params': array([-8.53295607e-02,  5.83519050e-02,  1.16191132e-01,  1.18874852e-03,\n",
       "        -5.03637231e+00]),\n",
       " 'y': array([ 1,  1,  4, 10,  1,  4,  2,  1,  5,  2,  1,  3,  6,  3,  2,  1,  1,\n",
       "         2,  3,  1, 22,  7,  3,  1,  3,  2,  3,  4,  1,  1,  4,  9,  2,  1,\n",
       "         3,  1,  2,  6,  1,  1], dtype=int64),\n",
       " 'y_pred': array([ 3.09720238,  2.00195564,  3.30447347,  4.93526056,  0.49221352,\n",
       "         5.22682108,  8.00058377,  0.6284258 ,  2.9513824 ,  5.20016848,\n",
       "        -0.75440279,  3.84608914,  7.06296635,  2.76963315,  0.59951396,\n",
       "         2.718737  ,  0.39464326,  4.76939823,  1.44159386,  3.49451044,\n",
       "        10.80067049,  3.92343801,  3.3067566 ,  5.02753669,  2.18738308,\n",
       "         4.53922161, -0.0198674 ,  4.59872534,  2.21862295,  1.99898086,\n",
       "         3.70153623,  2.91056876,  3.09281769,  3.05817792,  6.46743859,\n",
       "        -0.31724624,  3.21843186,  3.93873591,  1.94340803,  2.22349331]),\n",
       " 'r2': 0.3745794690243778,\n",
       " 'adj_r2': 0.28260586152796274,\n",
       " 'mae': 2.105602198007464,\n",
       " 'mre': 0.965758804733962,\n",
       " 'error_variance': 10.153426399566728}"
      ]
     },
     "execution_count": 8,
     "metadata": {},
     "output_type": "execute_result"
    }
   ],
   "source": [
    "# Тест 3\n",
    "dd = df[['length', 'maxder', 'speed', 'weight', 'load', 'dcar']].copy().dropna()\n",
    "res_3 = solve(dd)\n",
    "ans_3 = \"dcar = \"\n",
    "for i in range(len(res_3['params'])):\n",
    "    ans_3 += f\"{res_3['params'][i]:.4f}*{res_3['names'][i]} + \"\n",
    "ans_3 += str(format(res_3['intercept'], '.4f'))\n",
    "print(ans_3)\n",
    "res_3"
   ]
  },
  {
   "cell_type": "code",
   "execution_count": 9,
   "metadata": {},
   "outputs": [
    {
     "name": "stdout",
     "output_type": "stream",
     "text": [
      "dcar = -0.0310*length + 0.0577*maxder + 0.0271*speed + 0.0001*weight + 0.0012*speed2 + 1.3208\n"
     ]
    },
    {
     "data": {
      "text/plain": [
       "{'names': array(['length', 'maxder', 'speed', 'weight', 'speed2'], dtype=object),\n",
       " 'intercept': 1.3208383584279373,\n",
       " 'params': array([-0.03097479,  0.0577042 ,  0.02714321,  0.00011746,  0.00120146]),\n",
       " 'y': array([ 1,  1,  4, 10,  1,  4,  2,  1,  5,  2,  1,  3,  6,  3,  2,  1,  1,\n",
       "         2,  3,  1, 22,  7,  3,  1,  3,  2,  3,  4,  1,  1,  4,  9,  2,  1,\n",
       "         3,  1,  2,  6,  1,  1], dtype=int64),\n",
       " 'y_pred': array([ 3.51326059,  2.46451414,  3.48971046,  4.23421495,  1.00374759,\n",
       "         4.73261945,  8.55599475,  0.76045939,  2.70394553,  5.58950608,\n",
       "        -0.16725296,  3.36287853,  7.56856203,  2.31442703,  1.32721925,\n",
       "         3.25379141,  0.25066916,  3.81671782,  1.60684911,  3.57999641,\n",
       "        11.40429913,  2.07385065,  2.89554952,  4.55460332,  2.0438473 ,\n",
       "         3.25445047,  0.95601189,  4.28803783,  1.46590817,  2.50673446,\n",
       "         3.60178712,  3.51462236,  3.80283374,  3.26271092,  6.90669612,\n",
       "         0.26166455,  1.91755848,  3.61589648,  2.41724469,  2.29386207]),\n",
       " 'r2': 0.36893815467648494,\n",
       " 'adj_r2': 0.2761349421289092,\n",
       " 'mae': 2.059733529943885,\n",
       " 'mre': 0.9305215294179824,\n",
       " 'error_variance': 10.245010649189625}"
      ]
     },
     "execution_count": 9,
     "metadata": {},
     "output_type": "execute_result"
    }
   ],
   "source": [
    "# Тест 4\n",
    "dd = df[['length', 'maxder', 'speed', 'weight', 'dcar']].copy().fillna(0)\n",
    "dd['speed2'] = dd['speed']**2\n",
    "res_4 = solve(dd)\n",
    "ans_4 = \"dcar = \"\n",
    "for i in range(len(res_4['params'])):\n",
    "    ans_4 += f\"{res_4['params'][i]:.4f}*{res_4['names'][i]} + \"\n",
    "ans_4 += str(format(res_4['intercept'], '.4f'))\n",
    "print(ans_4)\n",
    "res_4"
   ]
  },
  {
   "cell_type": "code",
   "execution_count": 10,
   "metadata": {},
   "outputs": [
    {
     "name": "stdout",
     "output_type": "stream",
     "text": [
      "dcar = 0.0600*maxder + 0.1151*speed + 0.0002*weight + 28.5215*koef_len + -31.7970\n"
     ]
    },
    {
     "data": {
      "text/plain": [
       "{'names': array(['maxder', 'speed', 'weight', 'koef_len'], dtype=object),\n",
       " 'intercept': -31.7970459946903,\n",
       " 'params': array([6.00213708e-02, 1.15128106e-01, 1.69068247e-04, 2.85215337e+01]),\n",
       " 'y': array([ 1,  1,  4, 10,  1,  4,  2,  1,  5,  2,  1,  3,  6,  3,  2,  1,  1,\n",
       "         2,  3,  1, 22,  7,  3,  1,  3,  2,  3,  4,  1,  1,  4,  9,  2,  1,\n",
       "         3,  1,  2,  6,  1,  1], dtype=int64),\n",
       " 'y_pred': array([ 2.73963628,  2.29362148,  2.87237396,  4.1709692 ,  0.36531282,\n",
       "         4.69406831,  7.44397242, -0.09906332,  3.4930854 ,  6.40537685,\n",
       "        -1.22813117,  3.5224841 ,  6.68748905,  2.3361152 ,  0.20594726,\n",
       "         2.54812917,  0.70357929,  4.70385161,  1.77799344,  2.9805699 ,\n",
       "        11.13464641,  3.32743851,  5.20236014,  4.94539218,  2.76629459,\n",
       "         2.81353836,  0.68846666,  4.27711138,  2.77982652,  2.49706689,\n",
       "         3.33705165,  3.50076119,  3.25214636,  4.06509906,  6.62412186,\n",
       "         0.18080911,  2.20075715,  4.29643725,  2.70773971,  1.78555381]),\n",
       " 'r2': 0.377928472709364,\n",
       " 'adj_r2': 0.3068345838761485,\n",
       " 'mae': 2.1084956289273626,\n",
       " 'mre': 0.9980783112438939,\n",
       " 'error_variance': 9.810512322178537}"
      ]
     },
     "execution_count": 10,
     "metadata": {},
     "output_type": "execute_result"
    }
   ],
   "source": [
    "# Тест 5\n",
    "dd = df[['length', 'commonlength', 'maxder', 'speed', 'weight', 'dcar']].copy().dropna()\n",
    "dd['koef_len'] = dd['commonlength']/dd['length']\n",
    "dd = dd.drop(columns=['length', 'commonlength'])\n",
    "res_5 = solve(dd)\n",
    "ans_5 = \"dcar = \"\n",
    "for i in range(len(res_5['params'])):\n",
    "    ans_5 += f\"{res_5['params'][i]:.4f}*{res_5['names'][i]} + \"\n",
    "ans_5 += str(format(res_5['intercept'], '.4f'))\n",
    "print(ans_5)\n",
    "res_5"
   ]
  },
  {
   "cell_type": "code",
   "execution_count": 11,
   "metadata": {},
   "outputs": [
    {
     "name": "stdout",
     "output_type": "stream",
     "text": [
      "dcar = 1.4440*commonlength + -1.4888*length + 0.0000*momentum + 0.0763*maxder + -1.7843\n"
     ]
    },
    {
     "data": {
      "text/plain": [
       "{'names': array(['commonlength', 'length', 'momentum', 'maxder'], dtype=object),\n",
       " 'intercept': -1.7843076029584126,\n",
       " 'params': array([ 1.44399119e+00, -1.48879101e+00,  1.74275348e-05,  7.62956411e-02]),\n",
       " 'y': array([ 1,  1,  4, 10,  1,  4,  2,  1,  5,  2,  1,  3,  6,  3,  2,  1,  1,\n",
       "         2,  3,  1, 22,  7,  3,  1,  3,  2,  3,  4,  1,  1,  4,  9,  2,  1,\n",
       "         3,  1,  2,  6,  1,  1], dtype=int64),\n",
       " 'y_pred': array([ 3.22107646,  1.39765076,  3.21585251,  3.29170446,  1.47583911,\n",
       "         4.46505305,  2.0965076 , -0.33251571,  5.34273344,  5.2787257 ,\n",
       "        -1.66246765,  3.2082122 ,  5.63664694,  1.64953467,  0.11036112,\n",
       "         2.98515165,  1.48044898,  5.24328108,  3.66791665,  3.2707086 ,\n",
       "         8.52052704,  3.84087058,  1.80656996,  6.2880083 ,  4.48681429,\n",
       "         2.43216644,  1.45591022,  4.63484357,  1.46065021,  3.54374721,\n",
       "         3.49567733,  4.76888837,  3.75193475,  5.72206474,  6.40671999,\n",
       "         1.68788087,  2.24856151,  6.10373517,  1.590281  ,  1.71172685]),\n",
       " 'r2': 0.3003030143403005,\n",
       " 'adj_r2': 0.22033764455062055,\n",
       " 'mae': 1.9601220082567443,\n",
       " 'mre': 0.9633738958425703,\n",
       " 'error_variance': 11.034721247414646}"
      ]
     },
     "execution_count": 11,
     "metadata": {},
     "output_type": "execute_result"
    }
   ],
   "source": [
    "# Тест 6\n",
    "dd = df[['length', 'commonlength', 'maxder', 'speed', 'weight', 'load', 'type', 'dcar']].copy().dropna()\n",
    "dd['momentum'] = dd['speed']*dd['weight']\n",
    "res_6 = solve(dd[['commonlength', 'length', 'momentum', 'dcar', 'maxder']])\n",
    "ans_6 = \"dcar = \"\n",
    "for i in range(len(res_6['params'])):\n",
    "    ans_6 += f\"{res_6['params'][i]:.4f}*{res_6['names'][i]} + \"\n",
    "ans_6 += str(format(res_6['intercept'], '.4f'))\n",
    "print(ans_6)\n",
    "res_6"
   ]
  },
  {
   "cell_type": "code",
   "execution_count": 12,
   "metadata": {},
   "outputs": [
    {
     "name": "stdout",
     "output_type": "stream",
     "text": [
      "dcar = -4.5931*koef_len + -1.3520*length + 1.3200*commonlength + 0.0629*maxder + 0.1116*speed + 2.0556\n"
     ]
    },
    {
     "data": {
      "text/plain": [
       "{'names': array(['koef_len', 'length', 'commonlength', 'maxder', 'speed'],\n",
       "       dtype=object),\n",
       " 'intercept': 2.055594322936836,\n",
       " 'params': array([-4.59306026, -1.35203178,  1.31995261,  0.06285361,  0.11157794]),\n",
       " 'y': array([ 1,  1,  4, 10,  1,  4,  2,  1,  5,  2,  1,  3,  6,  3,  2,  1,  1,\n",
       "         2,  3,  1, 22,  7,  3,  1,  3,  2,  3,  4,  1,  1,  4,  9,  2,  1,\n",
       "         3,  1,  2,  6,  1,  1], dtype=int64),\n",
       " 'y_pred': array([ 2.28950302,  1.9824493 ,  2.92693055,  4.14328644,  1.04189559,\n",
       "         4.5518822 ,  7.18444525, -0.23109783,  4.41519423,  5.71716741,\n",
       "        -1.76516795,  2.60211642,  5.72881125,  1.73561989, -0.44965995,\n",
       "         2.10861494,  2.22849119,  6.30488575,  3.12452138,  3.06020973,\n",
       "        12.69596406,  2.35735638,  2.07470002,  4.84524016,  3.64002321,\n",
       "         2.94295459,  0.98522263,  3.40783734,  2.17569557,  2.79235239,\n",
       "         2.80500485,  4.0253948 ,  3.08991086,  5.18716291,  6.54078683,\n",
       "         1.00242407,  2.61632706,  5.71119749,  1.93205991,  1.47228607]),\n",
       " 'r2': 0.4293218297810243,\n",
       " 'adj_r2': 0.34539856945470426,\n",
       " 'mae': 1.9915644690386585,\n",
       " 'mre': 0.9631105349697121,\n",
       " 'error_variance': 9.264708323724092}"
      ]
     },
     "execution_count": 12,
     "metadata": {},
     "output_type": "execute_result"
    }
   ],
   "source": [
    "# Тест 7\n",
    "dd = df[['length', 'commonlength', 'maxder', 'speed', 'weight', 'load', 'type', 'dcar']].copy().dropna()\n",
    "dd['koef_len'] = dd['commonlength']/dd['length']\n",
    "res_7 = solve(dd[['koef_len', 'length', 'commonlength', 'maxder', 'speed', 'dcar']])\n",
    "ans_7 = \"dcar = \"\n",
    "for i in range(len(res_7['params'])):\n",
    "    ans_7 += f\"{res_7['params'][i]:.4f}*{res_7['names'][i]} + \"\n",
    "ans_7 += str(format(res_7['intercept'], '.4f'))\n",
    "print(ans_7)\n",
    "res_7"
   ]
  },
  {
   "cell_type": "code",
   "execution_count": 13,
   "metadata": {},
   "outputs": [
    {
     "name": "stdout",
     "output_type": "stream",
     "text": [
      "dcar = -0.0000*momentum + -1.2619*length + 1.2387*commonlength + 0.0603*maxder + 0.1209*speed + -2.9875\n"
     ]
    },
    {
     "data": {
      "text/plain": [
       "{'names': array(['momentum', 'length', 'commonlength', 'maxder', 'speed'],\n",
       "       dtype=object),\n",
       " 'intercept': -2.987500201004741,\n",
       " 'params': array([-2.75985345e-06, -1.26189822e+00,  1.23867449e+00,  6.03396413e-02,\n",
       "         1.20895153e-01]),\n",
       " 'y': array([ 1,  1,  4, 10,  1,  4,  2,  1,  5,  2,  1,  3,  6,  3,  2,  1,  1,\n",
       "         2,  3,  1, 22,  7,  3,  1,  3,  2,  3,  4,  1,  1,  4,  9,  2,  1,\n",
       "         3,  1,  2,  6,  1,  1], dtype=int64),\n",
       " 'y_pred': array([ 2.23599844,  1.91130563,  2.9494575 ,  4.13804875,  1.10679537,\n",
       "         4.46402899,  7.57992082, -0.16864099,  4.2943192 ,  5.89205537,\n",
       "        -1.63837906,  2.58799923,  5.33581686,  1.74499662, -0.39247247,\n",
       "         2.00952843,  2.41233874,  6.40157879,  3.13969818,  2.96387467,\n",
       "        12.94960176,  2.20488488,  2.52531929,  4.70222967,  3.54264573,\n",
       "         2.95410936,  0.96293113,  3.23284879,  2.32342212,  2.69604401,\n",
       "         2.72514173,  3.92185916,  2.93518631,  5.13030154,  6.19221777,\n",
       "         1.05002086,  2.72998516,  5.65931056,  2.1540222 ,  1.43964889]),\n",
       " 'r2': 0.43031402257410856,\n",
       " 'adj_r2': 0.3465366729526539,\n",
       " 'mae': 1.9983478524885327,\n",
       " 'mre': 0.9628558644995294,\n",
       " 'error_variance': 9.24860051146048}"
      ]
     },
     "execution_count": 13,
     "metadata": {},
     "output_type": "execute_result"
    }
   ],
   "source": [
    "# Тест 8\n",
    "dd = df[['length', 'commonlength', 'maxder', 'speed', 'weight', 'load', 'type', 'dcar']].copy().dropna()\n",
    "dd['momentum'] = dd['speed']*dd['weight']\n",
    "res_8 = solve(dd[['momentum', 'length', 'commonlength', 'maxder', 'speed', 'dcar']])\n",
    "ans_8 = \"dcar = \"\n",
    "for i in range(len(res_8['params'])):\n",
    "    ans_8 += f\"{res_8['params'][i]:.4f}*{res_8['names'][i]} + \"\n",
    "ans_8 += str(format(res_8['intercept'], '.4f'))\n",
    "print(ans_8)\n",
    "res_8"
   ]
  },
  {
   "cell_type": "code",
   "execution_count": 14,
   "metadata": {},
   "outputs": [
    {
     "name": "stdout",
     "output_type": "stream",
     "text": [
      "dcar = -1.3877*length + 1.3287*commonlength + 0.1043*maxder + -0.0083*speed + -0.0005*maxder2 + 0.0017*speed2 + 0.0003*length2 + -1.5541\n"
     ]
    },
    {
     "data": {
      "text/plain": [
       "{'names': array(['length', 'commonlength', 'maxder', 'speed', 'maxder2', 'speed2',\n",
       "        'length2'], dtype=object),\n",
       " 'intercept': -1.5540532594342467,\n",
       " 'params': array([-1.38765580e+00,  1.32867798e+00,  1.04305219e-01, -8.31236443e-03,\n",
       "        -5.01858180e-04,  1.65779936e-03,  2.92379791e-04]),\n",
       " 'y': array([ 1,  1,  4, 10,  1,  4,  2,  1,  5,  2,  1,  3,  6,  3,  2,  1,  1,\n",
       "         2,  3,  1, 22,  7,  3,  1,  3,  2,  3,  4,  1,  1,  4,  9,  2,  1,\n",
       "         3,  1,  2,  6,  1,  1], dtype=int64),\n",
       " 'y_pred': array([ 2.94978609,  0.55711838,  3.14966134,  3.48843098,  1.90687363,\n",
       "         3.87674075,  8.25383556, -0.3072763 ,  4.33343596,  4.23048241,\n",
       "        -1.49540469,  2.74314843,  5.99774668,  1.39668052,  0.70982922,\n",
       "         2.58266575,  1.59151714,  5.83253199,  3.61774116,  3.01709789,\n",
       "        13.57663477,  2.25459458,  2.31760838,  4.75306792,  3.43527084,\n",
       "         2.82036229,  0.66162827,  3.23669616,  1.52489613,  2.88399392,\n",
       "         2.87199705,  4.22939187,  3.07590101,  5.14279185,  6.46601787,\n",
       "         1.3281241 ,  2.36127638,  5.6210819 ,  2.50278097,  1.50324082]),\n",
       " 'r2': 0.4515358375757672,\n",
       " 'adj_r2': 0.33155930204546624,\n",
       " 'mae': 1.939012786681824,\n",
       " 'mre': 0.9538271945432655,\n",
       " 'error_variance': 9.460578314191121}"
      ]
     },
     "execution_count": 14,
     "metadata": {},
     "output_type": "execute_result"
    }
   ],
   "source": [
    "# Тест 9\n",
    "dd = df[['length', 'commonlength', 'maxder', 'speed', 'weight', 'load', 'type', 'dcar']].copy().dropna()\n",
    "dd['speed2'] = dd['speed']**2\n",
    "dd['maxder2'] = dd['maxder']**2\n",
    "dd['length2'] = dd['length']**2\n",
    "res_9 = solve(dd[['length', 'commonlength', 'maxder', 'speed', 'maxder2', 'speed2', 'length2', 'dcar']])\n",
    "ans_9 = \"dcar = \"\n",
    "for i in range(len(res_9['params'])):\n",
    "    ans_9 += f\"{res_9['params'][i]:.4f}*{res_9['names'][i]} + \"\n",
    "ans_9 += str(format(res_9['intercept'], '.4f'))\n",
    "print(ans_9)\n",
    "res_9"
   ]
  },
  {
   "cell_type": "code",
   "execution_count": 15,
   "metadata": {},
   "outputs": [
    {
     "name": "stdout",
     "output_type": "stream",
     "text": [
      "dcar = 11.4180*koef_len + -0.0000*momentum + -1.1095*length + 1.1039*commonlength + -0.0327*maxder + 0.1365*speed + 0.0032*maxder2 + -0.0033*speed2 + -0.0000*maxder3 + 0.0000*speed3 + -14.9703\n"
     ]
    },
    {
     "data": {
      "text/plain": [
       "{'names': array(['koef_len', 'momentum', 'length', 'commonlength', 'maxder',\n",
       "        'speed', 'maxder2', 'speed2', 'maxder3', 'speed3'], dtype=object),\n",
       " 'intercept': -14.970319262010362,\n",
       " 'params': array([ 1.14179974e+01, -1.86865940e-06, -1.10948505e+00,  1.10389621e+00,\n",
       "        -3.26653993e-02,  1.36501770e-01,  3.17525566e-03, -3.33226041e-03,\n",
       "        -2.58215702e-05,  4.56574592e-05]),\n",
       " 'y': array([ 1,  1,  4, 10,  1,  4,  2,  1,  5,  2,  1,  3,  6,  3,  2,  1,  1,\n",
       "         2,  3,  1, 22,  7,  3,  1,  3,  2,  3,  4,  1,  1,  4,  9,  2,  1,\n",
       "         3,  1,  2,  6,  1,  1], dtype=int64),\n",
       " 'y_pred': array([ 3.22703724,  1.00043761,  3.83790275,  3.38671355,  1.07864184,\n",
       "         4.41748553,  7.93738185, -0.30917646,  3.95138962,  2.64304949,\n",
       "        -0.97489814,  3.33652953,  5.72623672,  1.14598325, -0.3951496 ,\n",
       "         2.58882837,  2.58327489,  5.57526426,  3.05859248,  2.89567354,\n",
       "        14.30251413,  1.65258871,  2.52321728,  5.41084839,  3.05479583,\n",
       "         2.25308631,  1.17977177,  3.92721261,  1.9181126 ,  2.41753523,\n",
       "         3.3737398 ,  4.09600031,  3.10566733,  4.82191455,  6.26416156,\n",
       "         1.66409462,  2.22993959,  5.86435962,  3.07272316,  1.15651828]),\n",
       " 'r2': 0.47175081905326266,\n",
       " 'adj_r2': 0.2895959290716291,\n",
       " 'mae': 1.8355797042406692,\n",
       " 'mre': 0.918220480745872,\n",
       " 'error_variance': 10.054494539761215}"
      ]
     },
     "execution_count": 15,
     "metadata": {},
     "output_type": "execute_result"
    }
   ],
   "source": [
    "# Тест 10\n",
    "dd = df[['length', 'commonlength', 'maxder', 'speed', 'weight', 'load', 'type', 'dcar']].copy().dropna()\n",
    "dd['koef_len'] = dd['commonlength']/dd['length']\n",
    "dd['momentum'] = dd['speed']*dd['weight']\n",
    "dd['speed2'] = dd['speed']**2\n",
    "dd['maxder2'] = dd['maxder']**2\n",
    "dd['speed3'] = dd['speed']**3\n",
    "dd['maxder3'] = dd['maxder']**3\n",
    "res_10 = solve(dd[['koef_len', 'momentum', 'length', 'commonlength', 'maxder', 'speed', 'maxder2', 'speed2', 'maxder3', 'speed3', 'dcar']])\n",
    "ans_10 = \"dcar = \"\n",
    "for i in range(len(res_10['params'])):\n",
    "    ans_10 += f\"{res_10['params'][i]:.4f}*{res_10['names'][i]} + \"\n",
    "    if (i+1 % 3) == 0:\n",
    "        ans += \"//+ \"\n",
    "ans_10 += str(format(res_10['intercept'], '.4f'))\n",
    "print(ans_10)\n",
    "res_10"
   ]
  },
  {
   "cell_type": "markdown",
   "metadata": {},
   "source": [
    "Ниже приведем таблицу для наглядного отображения параметров системы и результатов метода наименьших квадратов.\n",
    "$$\n",
    "\\begin{array}{|c|c|c|c|c|}\n",
    "\\hline\n",
    "Зависимость & R^2_{adj} & \\Delta & \\delta & \\hat{\\sigma}^2\\\\ \\hline\n",
    "1.\\quad dcar = 4.3031*length - 4.4941*commonlength - \\\\ - 0.0673*maxder + 0.2141*speed + 0.0008*weight +\\\\ + 291.1357*curve - 187.2305*profile + 20.1357 & 0.9845 & 0.0935 & 0.0520 & 0.1320 \\\\ \\hline\n",
    "2.\\quad dcar = -1.3116*length + 1.2291*commonlength + \\\\ + 0.0668*maxder + 0.1138*speed + 0.0011*weight - \\\\ - 4.3757*load - 1.1437 & 0.3433 & 1.8975 & 0.9115 & 9.2948 \\\\ \\hline\n",
    "3.\\quad dcar = -0.0853*length + 0.0584*maxder + \\\\ + 0.1162*speed + 0.0012*weight - 5.0364*load + \\\\ + 2.4019 & 0.2826 & 2.1056 & 0.9658 & 10.1534 \\\\ \\hline\n",
    "4.\\quad dcar = -0.0310*length + 0.0577*maxder + \\\\ + 0.0271*speed + 0.0001*weight + 0.0012*speed^2 + \\\\ + 1.3208 & 0.2761 & 2.0597 & 0.9305 & 10.2450 \\\\ \\hline\n",
    "5.\\quad dcar = 0.06*maxder + 0.1151*speed + 0.0002*weight + \\\\ + 28.5215*\\frac{commonlength}{length} - 31.7970 & 0.3068 & 2.1085 & 0.9981 & 9.8105 \\\\ \\hline\n",
    "6.\\quad dcar = 1.444*commonlength - 1.4888*length + \\\\ + 0.00001*(weight*speed) + 0.0763*maxder - 1.7843 & 0.2203 & 1.9601 & 0.9634 & 11.0347 \\\\ \\hline\n",
    "7.\\quad dcar = -4.5931*\\frac{commonlength}{length} - 1.352*length + \\\\ + 1.32*commonlength + 0.0629*maxder + 0.1116*speed + \\\\+ 2.0556 & 0.3454 & 1.9916 & 0.9631 & 9.2647 \\\\ \\hline\n",
    "8.\\quad dcar = -0.000002*(weight*speed) - 1.2619*length + \\\\+ 1.2387*commonlength + 0.0603*maxder + \\\\ + 0.1209*speed - 2.9875 & 0.3465 & 1.9983 & 0.9629 & 9.2486 \\\\ \\hline\n",
    "9.\\quad dcar = -1.3877*length + 1.3287*commonlength + \\\\ + 0.1043*maxder - 0.0083*speed - 0.0005*maxder^2 + \\\\ + 0.0017*speed^2 + 0.0003*length^2 - 1.5541 & 0.3316 & 1.939 & 0.9538 & 9.4606 \\\\ \\hline\n",
    "10.\\quad dcar = 11.4180*\\frac{commonlength}{length} - \\\\ - 0.000001*(weight*speed) - 1.1095*length + \\\\ + 1.1039*commonlength - 0.0327*maxder + 0.1365*speed + \\\\ + 0.0032*maxder^2 - 0.0033*speed^2 - 0.00002*maxder^3 + \\\\ + 0.00004*speed^3 - 14.9703 & 0.2896 & 1.8356 & 0.9182 & 10.0545 \\\\ \\hline\n",
    "\\end{array}\n",
    "$$"
   ]
  },
  {
   "cell_type": "markdown",
   "metadata": {},
   "source": [
    "Для восьмого набора столбцов $x$ была построена наилучшая оценка, если судить по значению скорректированного коэффициента детерминации $R^2_{adj}$. Разобьем данные на обучающую и тестовую выборки, обучим модель и проверим, насколько она точна."
   ]
  },
  {
   "cell_type": "code",
   "execution_count": 16,
   "metadata": {},
   "outputs": [
    {
     "data": {
      "text/plain": [
       "{'params': array([ 1.06659701e-05, -7.43672176e-01,  7.19907950e-01,  5.56277457e-02,\n",
       "         1.43620121e-02]),\n",
       " 'y_train': array([ 3,  1,  1,  1,  2,  1,  1,  3,  7,  1,  1,  1,  4,  2,  9,  3, 10,\n",
       "         3,  1,  6,  1,  4,  3,  4,  5,  6,  2,  1], dtype=int64),\n",
       " 'y_train_pred': array([ 2.3866622 ,  3.42581829,  3.24098125,  3.18808034,  3.68710119,\n",
       "         2.31079619,  3.35659398,  3.55912192,  3.66458703,  2.22167441,\n",
       "         1.61470465,  2.03611295,  3.52311103,  4.42570444,  4.08459639,\n",
       "         5.5045833 ,  3.60365309,  2.13845777,  0.82356595,  5.27797412,\n",
       "        -0.12042095,  3.65517464,  1.66590742,  4.40927935,  4.30802449,\n",
       "         4.91264848,  2.25547791,  1.84002815]),\n",
       " 'y_test': array([ 1,  2,  2,  1,  2,  3,  1, 22,  3,  4,  2,  1], dtype=int64),\n",
       " 'y_test_pred': array([2.58784676, 5.40355887, 1.1466066 , 5.39220496, 2.73542686,\n",
       "        3.10542669, 1.67471303, 7.38410822, 3.66790262, 4.45093133,\n",
       "        3.35487373, 4.50283417]),\n",
       " 'r2_train': 0.2756647623838677,\n",
       " 'adj_r2_train': 0.11104311747111051,\n",
       " 'mae_train': 1.5768613106214138,\n",
       " 'mre_train': 0.7886903900311136,\n",
       " 'error_variance_train': 5.685326093951297,\n",
       " 'r2_test': 0.30041148036511045,\n",
       " 'adj_r2_test': -0.28257895266396416,\n",
       " 'mae_test': 2.695417016635935,\n",
       " 'mre_test': 1.1971744444593961,\n",
       " 'error_variance_test': 43.891139619812975}"
      ]
     },
     "execution_count": 16,
     "metadata": {},
     "output_type": "execute_result"
    }
   ],
   "source": [
    "dd = df[['length', 'commonlength', 'maxder', 'speed', 'weight', 'load', 'type', 'dcar']].copy().dropna()\n",
    "dd['momentum'] = dd['speed']*dd['weight']\n",
    "res = predict_dcar(dd[['momentum', 'length', 'commonlength', 'maxder', 'speed', 'dcar']])\n",
    "res"
   ]
  },
  {
   "cell_type": "markdown",
   "metadata": {},
   "source": [
    "### Заключение"
   ]
  },
  {
   "cell_type": "markdown",
   "metadata": {},
   "source": [
    "В ходе данной лабораторной работы с помощью метода наименьших квадратов было произведено прогнозирование количества подвижных единиц грузового поезда в сходе с рельсов. Наилучшим образом показала сея модель со следующими параметрами: `weight*speed`, `length`, `commonlength`, `maxder`, `speed`. Скорректированный коэффициент детерминации $R^2_{adj}$ в случае обучения модели на всех данных равен $0.3465$. После разделения выборки на обучающую и тестовую результат несколько ухудшился: на обучающей выборке - $R^2_{adj} = 0.0429$, на тестовой - $R^2_{adj} = -0.8347$. Это может быть связано с тем, что наблюдений слишком мало и модель не смогла обучиться на таком наборе."
   ]
  }
 ],
 "metadata": {
  "kernelspec": {
   "display_name": "Python 3",
   "language": "python",
   "name": "python3"
  },
  "language_info": {
   "codemirror_mode": {
    "name": "ipython",
    "version": 3
   },
   "file_extension": ".py",
   "mimetype": "text/x-python",
   "name": "python",
   "nbconvert_exporter": "python",
   "pygments_lexer": "ipython3",
   "version": "3.12.0"
  }
 },
 "nbformat": 4,
 "nbformat_minor": 2
}
