{
 "cells": [
  {
   "cell_type": "markdown",
   "metadata": {},
   "source": [
    "### Задание"
   ]
  },
  {
   "cell_type": "markdown",
   "metadata": {},
   "source": [
    "Ознакомиться со структурой датасета, в котором хранятся сведения о результатах сходов/крушений подвижного состава вне стрелочных переводов по причине неисправности подвижного состава."
   ]
  },
  {
   "cell_type": "code",
   "execution_count": 43,
   "metadata": {},
   "outputs": [
    {
     "data": {
      "text/html": [
       "<div>\n",
       "<style scoped>\n",
       "    .dataframe tbody tr th:only-of-type {\n",
       "        vertical-align: middle;\n",
       "    }\n",
       "\n",
       "    .dataframe tbody tr th {\n",
       "        vertical-align: top;\n",
       "    }\n",
       "\n",
       "    .dataframe thead th {\n",
       "        text-align: right;\n",
       "    }\n",
       "</style>\n",
       "<table border=\"1\" class=\"dataframe\">\n",
       "  <thead>\n",
       "    <tr style=\"text-align: right;\">\n",
       "      <th></th>\n",
       "      <th>date</th>\n",
       "      <th>length</th>\n",
       "      <th>commonlength</th>\n",
       "      <th>maxder</th>\n",
       "      <th>dcar</th>\n",
       "      <th>speed</th>\n",
       "      <th>weight</th>\n",
       "      <th>load</th>\n",
       "      <th>curve</th>\n",
       "      <th>profile</th>\n",
       "      <th>type</th>\n",
       "    </tr>\n",
       "  </thead>\n",
       "  <tbody>\n",
       "    <tr>\n",
       "      <th>0</th>\n",
       "      <td>2013-01-03</td>\n",
       "      <td>68</td>\n",
       "      <td>70</td>\n",
       "      <td>61</td>\n",
       "      <td>1</td>\n",
       "      <td>6</td>\n",
       "      <td>4875</td>\n",
       "      <td>7.06e-01</td>\n",
       "      <td>5.00e-03</td>\n",
       "      <td>0.00</td>\n",
       "      <td>2</td>\n",
       "    </tr>\n",
       "    <tr>\n",
       "      <th>1</th>\n",
       "      <td>2013-01-03</td>\n",
       "      <td>43</td>\n",
       "      <td>45</td>\n",
       "      <td>2</td>\n",
       "      <td>1</td>\n",
       "      <td>30</td>\n",
       "      <td>3955</td>\n",
       "      <td>1.00e+00</td>\n",
       "      <td>5.00e-03</td>\n",
       "      <td>NaN</td>\n",
       "      <td>2</td>\n",
       "    </tr>\n",
       "    <tr>\n",
       "      <th>2</th>\n",
       "      <td>2013-01-10</td>\n",
       "      <td>70</td>\n",
       "      <td>72</td>\n",
       "      <td>65</td>\n",
       "      <td>4</td>\n",
       "      <td>10</td>\n",
       "      <td>1658</td>\n",
       "      <td>9.94e-03</td>\n",
       "      <td>NaN</td>\n",
       "      <td>NaN</td>\n",
       "      <td>2</td>\n",
       "    </tr>\n",
       "    <tr>\n",
       "      <th>3</th>\n",
       "      <td>2013-01-10</td>\n",
       "      <td>56</td>\n",
       "      <td>58</td>\n",
       "      <td>44</td>\n",
       "      <td>10</td>\n",
       "      <td>29</td>\n",
       "      <td>2651</td>\n",
       "      <td>3.53e-01</td>\n",
       "      <td>3.33e-03</td>\n",
       "      <td>-0.02</td>\n",
       "      <td>2</td>\n",
       "    </tr>\n",
       "    <tr>\n",
       "      <th>4</th>\n",
       "      <td>2013-01-12</td>\n",
       "      <td>68</td>\n",
       "      <td>71</td>\n",
       "      <td>23</td>\n",
       "      <td>1</td>\n",
       "      <td>5</td>\n",
       "      <td>2522</td>\n",
       "      <td>2.04e-01</td>\n",
       "      <td>3.33e-03</td>\n",
       "      <td>NaN</td>\n",
       "      <td>2</td>\n",
       "    </tr>\n",
       "  </tbody>\n",
       "</table>\n",
       "</div>"
      ],
      "text/plain": [
       "        date  length  commonlength  maxder  dcar  speed  weight      load     curve  profile  type\n",
       "0 2013-01-03      68            70      61     1      6    4875  7.06e-01  5.00e-03     0.00     2\n",
       "1 2013-01-03      43            45       2     1     30    3955  1.00e+00  5.00e-03      NaN     2\n",
       "2 2013-01-10      70            72      65     4     10    1658  9.94e-03       NaN      NaN     2\n",
       "3 2013-01-10      56            58      44    10     29    2651  3.53e-01  3.33e-03    -0.02     2\n",
       "4 2013-01-12      68            71      23     1      5    2522  2.04e-01  3.33e-03      NaN     2"
      ]
     },
     "execution_count": 43,
     "metadata": {},
     "output_type": "execute_result"
    }
   ],
   "source": [
    "import matplotlib.pyplot as plt\n",
    "import numpy as np\n",
    "import pandas as pd\n",
    "import seaborn as sns\n",
    "from sklearn.linear_model import QuantileRegressor\n",
    "from sklearn.metrics import mean_absolute_error\n",
    "from sklearn.model_selection import train_test_split\n",
    "\n",
    "df = pd.read_excel(\"WO.xlsx\")\n",
    "df.head()"
   ]
  },
  {
   "cell_type": "markdown",
   "metadata": {},
   "source": [
    "Загрузить указанный датасет в любой математический пакет по выбору студента.\n",
    "\n",
    "Построить различные зависимости вида $dcar_k=f(length_k, \\dots,profile_k)$ на основе квантильной регрессии, полагая, что\n",
    "\n",
    "$$ dcar_k = f(length_k, \\dots, profile_k)+\\varepsilon_k, $$\n",
    "где $k=1, \\dots, n, n$ - количество наблюдений, $\\varepsilon_1, \\dots, \\varepsilon_n$ - независимые одинаково распределенные ошибки. Уровень квантильной регрессии выбрать равным 0.25, 0.5, 0.75.\n",
    "\n",
    "Построить не менее 12 таких зависимостей (по 4 на каждый уровень). Проводить построение зависимостей на выборках с вычеркиванием строк, в которых имеется хотя бы одно пропущенное наблюдение чего-либо; а также необходимо проводить построение зависимостей с вычеркиванием только тех строк, в которых пропущено необходимое для построения зависимости наблюдение.\n",
    "\n",
    "Для каждой построенной зависимости привести значения скорректированного коэффициента детерминации, средней абсолютной погрешности, средней относительной погрешности, оценку дисперсии ошибок.\n",
    "\n",
    "Определить наилучшую из построенных зависимостей и объяснить, почему она, на взгляд студента, является наилучшей.\n",
    "\n",
    "Определив вид наилучшей зависимости, разбить выборку на две части в пропорции: 70 на 30. Выбор разбиения предоставляется студенту: например, можно выбрать эти 70 процентов наблюдений случайным образом, можно же взять первые 70 процентов наблюдений по порядку их нахождения в датасете. На 70 процентах наблюдений провести обучение модели (то есть подбор неизвестных коэффициентов). На этих 70 процентах наблюдений вычислить значения\n",
    "- скорректированного коэффициента детерминации;\n",
    "- средней абсолютной погрешности;\n",
    "- средней относительной погрешности;\n",
    "- оценки дисперсии ошибок.\n",
    "\n",
    "А также для полученной модели на 30 процентах наблюдений, на которых модель не обучалась, привести значения\n",
    "- скорректированного коэффициента детерминации;\n",
    "- средней абсолютной погрешности;\n",
    "- средней относительной погрешности;\n",
    "- оценки дисперсии ошибок.\n",
    "\n",
    "Сделать вывод из полученных результатов."
   ]
  },
  {
   "cell_type": "markdown",
   "metadata": {},
   "source": [
    "### Решение"
   ]
  },
  {
   "cell_type": "markdown",
   "metadata": {},
   "source": [
    "Посчитаем коэффициенты корреляции между всеми столбцаи исходных данных, отобразим это на рисунке."
   ]
  },
  {
   "cell_type": "code",
   "execution_count": 44,
   "metadata": {},
   "outputs": [
    {
     "data": {
      "image/png": "[encoded data removed]",
      "text/plain": [
       "<Figure size 1000x600 with 2 Axes>"
      ]
     },
     "metadata": {},
     "output_type": "display_data"
    }
   ],
   "source": [
    "fig, ax = plt.subplots(1, 1, figsize=(10, 6))\n",
    "corr = df[['length', 'commonlength', 'maxder', 'speed', 'weight',\n",
    "       'load', 'dcar']].corr()\n",
    "sns.heatmap(corr, annot=True, ax=ax)\n",
    "plt.show()"
   ]
  },
  {
   "cell_type": "markdown",
   "metadata": {},
   "source": [
    "Напишем метод, который будет применять метод квантильной регрессии `QuantileRegressor` из библиотеки `sklearn.linear_model`. Метод заключается заключается минимизации функции:\n",
    "\n",
    "$$ F(\\beta) = \\sum\\limits_{y_k \\geq f(x_k, \\beta)}(\\alpha\\left| y_k-f(x_k, \\beta) \\right|) + \\sum\\limits_{y_k < f(x_k, \\beta)}((1-\\alpha)\\left| y_k-f(x_k, \\beta) \\right|) \\rightarrow \\min_{\\beta}, $$\n",
    "где $y_k, k=1,\\dots,n$ - набор скалярных экспериментальных данных, интересующий нас столбец таблицы `dcar`, $x_k$ - набор векторных экспериментальных данных и предполагается, что $y$ зависит от $x$. $f(x, \\beta)$ - скалярная функция, которая определяется вектором неизвестных параметров $\\beta$."
   ]
  },
  {
   "cell_type": "code",
   "execution_count": 45,
   "metadata": {},
   "outputs": [],
   "source": [
    "def solve(df, quantile=0.5):\n",
    "    y = df['dcar']\n",
    "    X = df.drop(['dcar'], axis=1)\n",
    "    model = QuantileRegressor(quantile=quantile, alpha=0)\n",
    "    model.fit(X, y)\n",
    "    y_pred = model.predict(X)\n",
    "\n",
    "    n = X.shape[0]\n",
    "    p = X.shape[1]\n",
    "    \n",
    "    y_np = y.to_numpy()\n",
    "    r2 = 1 - sum([(y_np[i] - y_pred[i])**2 for i in range(len(y_np))])/sum([(y_np[i] - np.mean(y_np))**2 for i in range(len(y))])\n",
    "    adj_r2 = 1 - (1-r2)*(n-1)/(n-p-1)\n",
    "    mae = mean_absolute_error(y, y_pred)\n",
    "    mre = np.mean([abs((true - pred)/true) if true != 0 else 0 \n",
    "                for true, pred in zip(y, y_pred)])\n",
    "    error_variance = sum((y[i]-y_pred[i])**2 for i in range(len(y)))/(n-df.shape[1])\n",
    "    \n",
    "\n",
    "    return {\n",
    "        'names': model.feature_names_in_,\n",
    "        'intercept': model.intercept_,\n",
    "        'params': model.coef_,\n",
    "        'quantile': quantile,\n",
    "        'y': y.to_numpy(),\n",
    "        'y_pred': y_pred,\n",
    "        'r2': r2,\n",
    "        'adj_r2': adj_r2,\n",
    "        'mae': mae,\n",
    "        'mre': mre,\n",
    "        'error_variance': error_variance\n",
    "    }"
   ]
  },
  {
   "cell_type": "markdown",
   "metadata": {},
   "source": [
    "Разберем различные варианты набора столбцов $x$. Исключим из рассмотрения столбцы с большим количеством пропусков, а именно `curve` и `profile`. Столбец `type` также не рассматривается, так как не несет никакой полезной информации."
   ]
  },
  {
   "cell_type": "code",
   "execution_count": 88,
   "metadata": {},
   "outputs": [],
   "source": [
    "data = {\n",
    "    'Зависимость': [],\n",
    "    'Уровень': [],\n",
    "    'R^2_adj': [],\n",
    "    'Δ': [],\n",
    "    '𝛿': [],\n",
    "    '𝜎̂^2': []\n",
    "}\n",
    "\n",
    "pd.set_option('display.max_colwidth', None)\n",
    "pd.set_option('display.max_rows', None)\n",
    "pd.set_option('display.max_columns', None)\n",
    "\n",
    "result_table = pd.DataFrame(data)"
   ]
  },
  {
   "cell_type": "code",
   "execution_count": 89,
   "metadata": {},
   "outputs": [
    {
     "data": {
      "text/plain": [
       "{'names': array(['speed'], dtype=object),\n",
       " 'intercept': 0.8305084745762712,\n",
       " 'params': array([0.01694915]),\n",
       " 'quantile': 0.25,\n",
       " 'y': array([ 1,  1,  4, 10,  1,  4,  2,  1,  5,  2,  1,  3,  6,  3,  2,  1,  1,\n",
       "         2,  3,  1, 22,  7,  3,  1,  3,  2,  3,  4,  1,  1,  4,  9,  2,  1,\n",
       "         3,  1,  2,  6,  1,  1], dtype=int64),\n",
       " 'y_pred': array([0.93220339, 1.33898305, 1.        , 1.3220339 , 0.91525424,\n",
       "        1.25423729, 2.        , 1.        , 1.15254237, 1.22033898,\n",
       "        0.89830508, 1.10169492, 1.96610169, 1.18644068, 0.86440678,\n",
       "        0.98305085, 1.11864407, 1.3220339 , 1.        , 1.10169492,\n",
       "        2.01694915, 1.27118644, 1.18644068, 1.05084746, 1.13559322,\n",
       "        1.15254237, 1.01694915, 1.10169492, 1.45762712, 1.06779661,\n",
       "        1.06779661, 1.06779661, 1.08474576, 1.15254237, 1.91525424,\n",
       "        0.91525424, 1.11864407, 1.15254237, 1.08474576, 1.06779661]),\n",
       " 'r2': -0.24345474378982757,\n",
       " 'adj_r2': -0.27617723704745467,\n",
       " 'mae': 2.1529661016949158,\n",
       " 'mre': 0.4296864223347274,\n",
       " 'error_variance': 18.06199821587868}"
      ]
     },
     "execution_count": 89,
     "metadata": {},
     "output_type": "execute_result"
    }
   ],
   "source": [
    "# Тест 1.\n",
    "\n",
    "dd = df[['speed', 'dcar']].copy().dropna()\n",
    "res_1 = solve(dd, quantile=0.25)\n",
    "ans_1 = \"dcar = \"\n",
    "for i in range(len(res_1['params'])):\n",
    "    ans_1 += f\"{res_1['params'][i]:.4f}*{res_1['names'][i]} + \"\n",
    "ans_1 += str(format(res_1['intercept'], '.4f'))\n",
    "result_table.loc[len(result_table)] = [ans_1, res_1['quantile'], res_1['adj_r2'], res_1['mae'], res_1['mre'], res_1['error_variance']]\n",
    "res_1"
   ]
  },
  {
   "cell_type": "code",
   "execution_count": 90,
   "metadata": {},
   "outputs": [
    {
     "data": {
      "text/plain": [
       "{'names': array(['speed'], dtype=object),\n",
       " 'intercept': 0.6923076923076923,\n",
       " 'params': array([0.07692308]),\n",
       " 'quantile': 0.5,\n",
       " 'y': array([ 1,  1,  4, 10,  1,  4,  2,  1,  5,  2,  1,  3,  6,  3,  2,  1,  1,\n",
       "         2,  3,  1, 22,  7,  3,  1,  3,  2,  3,  4,  1,  1,  4,  9,  2,  1,\n",
       "         3,  1,  2,  6,  1,  1], dtype=int64),\n",
       " 'y_pred': array([1.15384615, 3.        , 1.46153846, 2.92307692, 1.07692308,\n",
       "        2.61538462, 6.        , 1.46153846, 2.15384615, 2.46153846,\n",
       "        1.        , 1.92307692, 5.84615385, 2.30769231, 0.84615385,\n",
       "        1.38461538, 2.        , 2.92307692, 1.46153846, 1.92307692,\n",
       "        6.07692308, 2.69230769, 2.30769231, 1.69230769, 2.07692308,\n",
       "        2.15384615, 1.53846154, 1.92307692, 3.53846154, 1.76923077,\n",
       "        1.76923077, 1.76923077, 1.84615385, 2.15384615, 5.61538462,\n",
       "        1.07692308, 2.        , 2.15384615, 1.84615385, 1.76923077]),\n",
       " 'r2': 0.15902845912914632,\n",
       " 'adj_r2': 0.13689762910622905,\n",
       " 'mae': 1.932692307692308,\n",
       " 'mre': 0.6103273115773116,\n",
       " 'error_variance': 12.21566490189972}"
      ]
     },
     "execution_count": 90,
     "metadata": {},
     "output_type": "execute_result"
    }
   ],
   "source": [
    "# Тест 2\n",
    "\n",
    "dd = df[['speed', 'dcar']].copy().dropna()\n",
    "res_2 = solve(dd, quantile=0.5)\n",
    "ans_2 = \"dcar = \"\n",
    "for i in range(len(res_2['params'])):\n",
    "    ans_2 += f\"{res_2['params'][i]:.4f}*{res_2['names'][i]} + \"\n",
    "ans_2 += str(format(res_2['intercept'], '.4f'))\n",
    "result_table.loc[len(result_table)] = [ans_2, res_2['quantile'], res_2['adj_r2'], res_2['mae'], res_2['mre'], res_2['error_variance']]\n",
    "res_2"
   ]
  },
  {
   "cell_type": "code",
   "execution_count": 91,
   "metadata": {},
   "outputs": [
    {
     "data": {
      "text/plain": [
       "{'names': array(['speed'], dtype=object),\n",
       " 'intercept': 1.3333333333333344,\n",
       " 'params': array([0.16666667]),\n",
       " 'quantile': 0.75,\n",
       " 'y': array([ 1,  1,  4, 10,  1,  4,  2,  1,  5,  2,  1,  3,  6,  3,  2,  1,  1,\n",
       "         2,  3,  1, 22,  7,  3,  1,  3,  2,  3,  4,  1,  1,  4,  9,  2,  1,\n",
       "         3,  1,  2,  6,  1,  1], dtype=int64),\n",
       " 'y_pred': array([ 2.33333333,  6.33333333,  3.        ,  6.16666667,  2.16666667,\n",
       "         5.5       , 12.83333333,  3.        ,  4.5       ,  5.16666667,\n",
       "         2.        ,  4.        , 12.5       ,  4.83333333,  1.66666667,\n",
       "         2.83333333,  4.16666667,  6.16666667,  3.        ,  4.        ,\n",
       "        13.        ,  5.66666667,  4.83333333,  3.5       ,  4.33333333,\n",
       "         4.5       ,  3.16666667,  4.        ,  7.5       ,  3.66666667,\n",
       "         3.66666667,  3.66666667,  3.83333333,  4.5       , 12.        ,\n",
       "         2.16666667,  4.16666667,  4.5       ,  3.83333333,  3.66666667]),\n",
       " 'r2': -0.02732108438888603,\n",
       " 'adj_r2': -0.05435584976754093,\n",
       " 'mae': 2.7916666666666665,\n",
       " 'mre': 1.5484845478595475,\n",
       " 'error_variance': 14.922514619883035}"
      ]
     },
     "execution_count": 91,
     "metadata": {},
     "output_type": "execute_result"
    }
   ],
   "source": [
    "# Тест 3\n",
    "\n",
    "dd = df[['speed', 'dcar']].copy().dropna()\n",
    "res_3 = solve(dd, quantile=0.75)\n",
    "ans_3 = \"dcar = \"\n",
    "for i in range(len(res_3['params'])):\n",
    "    ans_3 += f\"{res_3['params'][i]:.4f}*{res_3['names'][i]} + \"\n",
    "ans_3 += str(format(res_3['intercept'], '.4f'))\n",
    "result_table.loc[len(result_table)] = [ans_3, res_3['quantile'], res_3['adj_r2'], res_3['mae'], res_3['mre'], res_3['error_variance']]\n",
    "res_3"
   ]
  },
  {
   "cell_type": "code",
   "execution_count": 92,
   "metadata": {},
   "outputs": [
    {
     "data": {
      "text/plain": [
       "{'names': array(['speed', 'maxder'], dtype=object),\n",
       " 'intercept': 0.6943947525342874,\n",
       " 'params': array([0.01759094, 0.00327967]),\n",
       " 'quantile': 0.25,\n",
       " 'y': array([ 1,  1,  4, 10,  1,  4,  2,  1,  5,  2,  1,  3,  6,  3,  2,  1,  1,\n",
       "         2,  3,  1, 22,  7,  3,  1,  3,  2,  3,  4,  1,  1,  4,  9,  2,  1,\n",
       "         3,  1,  2,  6,  1,  1], dtype=int64),\n",
       " 'y_pred': array([1.        , 1.22868217, 1.08348241, 1.34883721, 0.85778175,\n",
       "        1.32766846, 2.        , 0.90310078, 1.13029219, 1.43023256,\n",
       "        0.76803816, 1.15623137, 1.89266547, 1.1523554 , 0.81156828,\n",
       "        1.01341682, 1.        , 1.33243888, 0.95557543, 1.12015504,\n",
       "        2.16845558, 1.21735242, 1.10644007, 1.16577221, 1.07662493,\n",
       "        1.13357185, 0.89773405, 1.17918903, 1.34853906, 1.03577818,\n",
       "        1.12104949, 1.08497317, 1.11568277, 1.14341085, 1.83005367,\n",
       "        0.78890877, 1.03279666, 1.18932618, 1.1320811 , 1.03905784]),\n",
       " 'r2': -0.23230455754453927,\n",
       " 'adj_r2': -0.298915614709109,\n",
       " 'mae': 2.153361657722123,\n",
       " 'mre': 0.4327608083131339,\n",
       " 'error_variance': 18.383819139206672}"
      ]
     },
     "execution_count": 92,
     "metadata": {},
     "output_type": "execute_result"
    }
   ],
   "source": [
    "# Тест 4\n",
    "\n",
    "dd = df[['speed', 'maxder', 'dcar']].copy().dropna()\n",
    "res_4 = solve(dd, quantile=0.25)\n",
    "ans_4 = \"dcar = \"\n",
    "for i in range(len(res_4['params'])):\n",
    "    ans_4 += f\"{res_4['params'][i]:.4f}*{res_4['names'][i]} + \"\n",
    "ans_4 += str(format(res_4['intercept'], '.4f'))\n",
    "result_table.loc[len(result_table)] = [ans_4, res_4['quantile'], res_4['adj_r2'], res_4['mae'], res_4['mre'], res_4['error_variance']]\n",
    "res_4"
   ]
  },
  {
   "cell_type": "code",
   "execution_count": 93,
   "metadata": {},
   "outputs": [
    {
     "data": {
      "text/plain": [
       "{'names': array(['speed', 'maxder'], dtype=object),\n",
       " 'intercept': 0.7715019255455713,\n",
       " 'params': array([0.03337612, 0.03080873]),\n",
       " 'quantile': 0.5,\n",
       " 'y': array([ 1,  1,  4, 10,  1,  4,  2,  1,  5,  2,  1,  3,  6,  3,  2,  1,  1,\n",
       "         2,  3,  1, 22,  7,  3,  1,  3,  2,  3,  4,  1,  1,  4,  9,  2,  1,\n",
       "         3,  1,  2,  6,  1,  1], dtype=int64),\n",
       " 'y_pred': array([2.85109114, 1.83440308, 3.10783055, 3.09499358, 1.64698331,\n",
       "        3.42362003, 3.93709884, 1.41335045, 2.36071887, 4.6508344 ,\n",
       "        0.93581515, 3.        , 3.19255456, 2.3042362 , 1.6084724 ,\n",
       "        2.58151476, 1.40051348, 2.94094994, 1.90629012, 2.66110398,\n",
       "        5.38767651, 2.25545571, 1.87291399, 3.48523748, 1.98844673,\n",
       "        2.3915276 , 1.23106547, 3.2156611 , 2.03722721, 2.1322208 ,\n",
       "        2.93324775, 2.59435173, 2.75096277, 2.48395379, 3.        ,\n",
       "        1.        , 1.70860077, 2.91527599, 2.90500642, 2.16302953]),\n",
       " 'r2': 0.16660337118756918,\n",
       " 'adj_r2': 0.12155490476527553,\n",
       " 'mae': 1.9057445442875482,\n",
       " 'mre': 0.6852729477055536,\n",
       " 'error_variance': 12.432813626722742}"
      ]
     },
     "execution_count": 93,
     "metadata": {},
     "output_type": "execute_result"
    }
   ],
   "source": [
    "# Тест 5\n",
    "\n",
    "dd = df[['speed', 'maxder', 'dcar']].copy().dropna()\n",
    "res_5 = solve(dd, quantile=0.5)\n",
    "ans_5 = \"dcar = \"\n",
    "for i in range(len(res_5['params'])):\n",
    "    ans_5 += f\"{res_5['params'][i]:.4f}*{res_5['names'][i]} + \"\n",
    "ans_5 += str(format(res_5['intercept'], '.4f'))\n",
    "result_table.loc[len(result_table)] = [ans_5, res_5['quantile'], res_5['adj_r2'], res_5['mae'], res_5['mre'], res_5['error_variance']]\n",
    "res_5"
   ]
  },
  {
   "cell_type": "code",
   "execution_count": 94,
   "metadata": {},
   "outputs": [
    {
     "data": {
      "text/plain": [
       "{'names': array(['speed', 'maxder'], dtype=object),\n",
       " 'intercept': 0.6002506265664158,\n",
       " 'params': array([0.09022556, 0.03884712]),\n",
       " 'quantile': 0.75,\n",
       " 'y': array([ 1,  1,  4, 10,  1,  4,  2,  1,  5,  2,  1,  3,  6,  3,  2,  1,  1,\n",
       "         2,  3,  1, 22,  7,  3,  1,  3,  2,  3,  4,  1,  1,  4,  9,  2,  1,\n",
       "         3,  1,  2,  6,  1,  1], dtype=int64),\n",
       " 'y_pred': array([3.5112782 , 3.38471178, 4.02756892, 4.92606516, 1.94486216,\n",
       "        5.14786967, 7.91353383, 1.89097744, 3.51879699, 6.59899749,\n",
       "        1.        , 4.18045113, 6.87844612, 3.54385965, 1.7518797 ,\n",
       "        3.31578947, 2.21177945, 4.73182957, 2.51253133, 3.75313283,\n",
       "        9.79072682, 3.72305764, 3.        , 4.64786967, 3.00125313,\n",
       "        3.55764411, 1.70927318, 4.45238095, 3.97744361, 2.98997494,\n",
       "        4.        , 3.5726817 , 3.81829574, 3.67418546, 6.49122807,\n",
       "        1.12907268, 2.60025063, 4.21804511, 4.01253133, 3.02882206]),\n",
       " 'r2': 0.3065424616313229,\n",
       " 'adj_r2': 0.2690582703681511,\n",
       " 'mae': 2.142324561403508,\n",
       " 'mre': 1.0954638874422702,\n",
       " 'error_variance': 10.345168236244607}"
      ]
     },
     "execution_count": 94,
     "metadata": {},
     "output_type": "execute_result"
    }
   ],
   "source": [
    "# Тест 6\n",
    "\n",
    "dd = df[['speed', 'maxder', 'dcar']].copy().dropna()\n",
    "res_6 = solve(dd, quantile=0.75)\n",
    "ans_6 = \"dcar = \"\n",
    "for i in range(len(res_6['params'])):\n",
    "    ans_6 += f\"{res_6['params'][i]:.4f}*{res_6['names'][i]} + \"\n",
    "ans_6 += str(format(res_6['intercept'], '.4f'))\n",
    "result_table.loc[len(result_table)] = [ans_6, res_6['quantile'], res_6['adj_r2'], res_6['mae'], res_6['mre'], res_6['error_variance']]\n",
    "res_6"
   ]
  },
  {
   "cell_type": "code",
   "execution_count": 95,
   "metadata": {},
   "outputs": [
    {
     "data": {
      "text/plain": [
       "{'names': array(['length', 'commonlength', 'maxder', 'speed', 'weight', 'load'],\n",
       "       dtype=object),\n",
       " 'intercept': 2.3087477297676027,\n",
       " 'params': array([-9.91892948e-02,  5.85935924e-02,  2.99383809e-03,  1.95596779e-02,\n",
       "         6.08573653e-04, -2.68091010e+00]),\n",
       " 'quantile': 0.25,\n",
       " 'y': array([ 1,  1,  4, 10,  1,  4,  2,  1,  5,  2,  1,  3,  6,  3,  2,  1,  1,\n",
       "         2,  3,  1, 22,  7,  3,  1,  3,  2,  3,  4,  1,  1,  4,  9,  2,  1,\n",
       "         3,  1,  2,  6,  1,  1], dtype=int64),\n",
       " 'y_pred': array([1.04037015, 1.        , 0.95680453, 1.51919087, 0.87811911,\n",
       "        1.41767496, 2.        , 1.        , 1.33852229, 0.53329676,\n",
       "        0.78447688, 1.2327608 , 2.07407935, 1.20819441, 0.8809573 ,\n",
       "        1.        , 1.        , 1.7150064 , 1.10902092, 1.23953884,\n",
       "        2.27435638, 1.87954351, 1.69425394, 1.4620949 , 1.27489675,\n",
       "        1.991445  , 0.77206153, 1.3481938 , 1.16170884, 1.00570775,\n",
       "        1.1869186 , 1.05774515, 0.93787782, 1.24666587, 2.01804777,\n",
       "        1.        , 2.        , 1.39434931, 0.45439716, 1.0865328 ]),\n",
       " 'r2': -0.19042922965077924,\n",
       " 'adj_r2': -0.4068709077691026,\n",
       " 'mae': 2.0577606957571613,\n",
       " 'mre': 0.40696873456587096,\n",
       " 'error_variance': 19.911732546560266}"
      ]
     },
     "execution_count": 95,
     "metadata": {},
     "output_type": "execute_result"
    }
   ],
   "source": [
    "# Тест 7\n",
    "\n",
    "dd = df[['length', 'commonlength', 'maxder', 'dcar', 'speed', 'weight', 'load']].copy()\n",
    "res_7 = solve(dd, quantile=0.25)\n",
    "ans_7 = \"dcar = \"\n",
    "for i in range(len(res_7['params'])):\n",
    "    ans_7 += f\"{res_7['params'][i]:.4f}*{res_7['names'][i]} + \"\n",
    "ans_7 += str(format(res_7['intercept'], '.4f'))\n",
    "result_table.loc[len(result_table)] = [ans_7, res_7['quantile'], res_7['adj_r2'], res_7['mae'], res_7['mre'], res_7['error_variance']]\n",
    "res_7"
   ]
  },
  {
   "cell_type": "code",
   "execution_count": 96,
   "metadata": {},
   "outputs": [
    {
     "data": {
      "text/plain": [
       "{'names': array(['length', 'commonlength', 'maxder', 'speed', 'weight', 'load'],\n",
       "       dtype=object),\n",
       " 'intercept': 1.7620644603865607,\n",
       " 'params': array([-3.38813048e-01,  2.69381522e-01,  2.59937552e-02,  3.02993111e-02,\n",
       "         1.42246554e-03, -4.90374271e+00]),\n",
       " 'quantile': 0.5,\n",
       " 'y': array([ 1,  1,  4, 10,  1,  4,  2,  1,  5,  2,  1,  3,  6,  3,  2,  1,  1,\n",
       "         2,  3,  1, 22,  7,  3,  1,  3,  2,  3,  4,  1,  1,  4,  9,  2,  1,\n",
       "         3,  1,  2,  6,  1,  1], dtype=int64),\n",
       " 'y_pred': array([2.82099787, 1.        , 1.74292291, 2.47626121, 1.18444322,\n",
       "        2.88185467, 2.56840612, 1.        , 3.30120958, 2.        ,\n",
       "        0.93710295, 3.30937272, 3.57771232, 2.26338635, 2.        ,\n",
       "        2.5767578 , 0.84712195, 2.71664315, 2.08160226, 1.97015596,\n",
       "        4.33236682, 4.97150895, 1.33951697, 4.69250249, 3.        ,\n",
       "        2.46574629, 1.08656239, 4.        , 2.12063234, 2.23032354,\n",
       "        2.98893464, 2.05780065, 2.        , 2.35110355, 3.50391635,\n",
       "        2.28913891, 2.21995289, 2.92064593, 1.0429035 , 1.95592865]),\n",
       " 'r2': 0.12399756387083372,\n",
       " 'adj_r2': -0.035275606334469245,\n",
       " 'mae': 1.7053103708959618,\n",
       " 'mre': 0.5604992308115103,\n",
       " 'error_variance': 14.65246802067868}"
      ]
     },
     "execution_count": 96,
     "metadata": {},
     "output_type": "execute_result"
    }
   ],
   "source": [
    "# Тест 8\n",
    "\n",
    "dd = df[['length', 'commonlength', 'maxder', 'dcar', 'speed', 'weight', 'load']].copy()\n",
    "res_8 = solve(dd, quantile=0.5)\n",
    "ans_8 = \"dcar = \"\n",
    "for i in range(len(res_8['params'])):\n",
    "    ans_8 += f\"{res_8['params'][i]:.4f}*{res_8['names'][i]} + \"\n",
    "ans_8 += str(format(res_8['intercept'], '.4f'))\n",
    "result_table.loc[len(result_table)] = [ans_8, res_8['quantile'], res_8['adj_r2'], res_8['mae'], res_8['mre'], res_8['error_variance']]\n",
    "res_8"
   ]
  },
  {
   "cell_type": "code",
   "execution_count": 97,
   "metadata": {},
   "outputs": [
    {
     "data": {
      "text/plain": [
       "{'names': array(['length', 'commonlength', 'maxder', 'speed', 'weight', 'load'],\n",
       "       dtype=object),\n",
       " 'intercept': 2.4520172083482077,\n",
       " 'params': array([-1.24202000e+00,  1.10595574e+00,  5.05221076e-02,  8.26979211e-02,\n",
       "         2.33777932e-03, -9.64431488e+00]),\n",
       " 'quantile': 0.75,\n",
       " 'y': array([ 1,  1,  4, 10,  1,  4,  2,  1,  5,  2,  1,  3,  6,  3,  2,  1,  1,\n",
       "         2,  3,  1, 22,  7,  3,  1,  3,  2,  3,  4,  1,  1,  4,  9,  2,  1,\n",
       "         3,  1,  2,  6,  1,  1], dtype=int64),\n",
       " 'y_pred': array([ 3.58057275,  1.        ,  3.03054034,  4.4610281 ,  2.01974154,\n",
       "         4.79135151,  6.04005867,  1.07014293,  5.53862332,  3.50310326,\n",
       "         0.17157923,  4.41565228,  6.        ,  3.        ,  1.6242772 ,\n",
       "         2.97833623,  2.58112466,  6.59399024,  4.03718466,  3.16350864,\n",
       "        10.65800297,  7.        ,  3.        ,  7.01320125,  4.86945945,\n",
       "         5.04021906,  1.03057808,  5.17851103,  3.32942561,  3.08332262,\n",
       "         4.        ,  3.50627264,  2.49282502,  4.79912679,  6.47193027,\n",
       "         3.06322574,  5.14247313,  6.        ,  1.24343197,  2.42227123]),\n",
       " 'r2': 0.34666332530004396,\n",
       " 'adj_r2': 0.22787483899096106,\n",
       " 'mae': 2.02451338229401,\n",
       " 'mre': 1.0636752553379896,\n",
       " 'error_variance': 10.928045788409339}"
      ]
     },
     "execution_count": 97,
     "metadata": {},
     "output_type": "execute_result"
    }
   ],
   "source": [
    "# Тест 9\n",
    "\n",
    "dd = df[['length', 'commonlength', 'maxder', 'dcar', 'speed', 'weight', 'load']].copy()\n",
    "res_9 = solve(dd, quantile=0.75)\n",
    "ans_9 = \"dcar = \"\n",
    "for i in range(len(res_9['params'])):\n",
    "    ans_9 += f\"{res_9['params'][i]:.4f}*{res_9['names'][i]} + \"\n",
    "ans_9 += str(format(res_9['intercept'], '.4f'))\n",
    "result_table.loc[len(result_table)] = [ans_9, res_9['quantile'], res_9['adj_r2'], res_9['mae'], res_9['mre'], res_9['error_variance']]\n",
    "res_9"
   ]
  },
  {
   "cell_type": "code",
   "execution_count": 98,
   "metadata": {},
   "outputs": [
    {
     "data": {
      "text/plain": [
       "{'names': array(['length', 'commonlength', 'maxder', 'speed', 'weight', 'load',\n",
       "        'weight/load'], dtype=object),\n",
       " 'intercept': 2.3199974431176407,\n",
       " 'params': array([-1.00857082e-01,  5.99686181e-02,  3.03591870e-03,  1.96182484e-02,\n",
       "         6.11204527e-04, -2.69450349e+00, -1.73428582e-08]),\n",
       " 'quantile': 0.25,\n",
       " 'y': array([ 1,  1,  4, 10,  1,  4,  2,  1,  5,  2,  1,  3,  6,  3,  2,  1,  1,\n",
       "         2,  3,  1, 22,  7,  3,  1,  3,  2,  3,  4,  1,  1,  4,  9,  2,  1,\n",
       "         3,  1,  2,  6,  1,  1], dtype=int64),\n",
       " 'y_pred': array([1.04049377, 1.        , 0.95496545, 1.52239524, 0.87849224,\n",
       "        1.42032029, 2.        , 1.        , 1.34071453, 0.52554645,\n",
       "        0.78188257, 1.23168537, 2.0752603 , 1.20751786, 0.87911479,\n",
       "        1.        , 1.        , 1.72146206, 1.11142797, 1.24303575,\n",
       "        2.27897354, 1.87875233, 1.70280712, 1.4636529 , 1.27654181,\n",
       "        2.        , 0.77197522, 1.34839397, 1.15729221, 1.00660199,\n",
       "        1.18720314, 1.06104387, 0.93895385, 1.25139385, 2.02043815,\n",
       "        1.        , 2.        , 1.39902124, 0.44906524, 1.08677884]),\n",
       " 'r2': -0.18978178071767293,\n",
       " 'adj_r2': -0.4500465452496638,\n",
       " 'mae': 2.057132368260082,\n",
       " 'mre': 0.407069486752534,\n",
       " 'error_variance': 20.522806200363668}"
      ]
     },
     "execution_count": 98,
     "metadata": {},
     "output_type": "execute_result"
    }
   ],
   "source": [
    "# Тест 10\n",
    "\n",
    "dd = df[['length', 'commonlength', 'maxder', 'dcar', 'speed', 'weight', 'load']].copy()\n",
    "dd['weight/load'] = dd['weight']/dd['load']\n",
    "res_10 = solve(dd, quantile=0.25)\n",
    "ans_10 = \"dcar = \"\n",
    "for i in range(len(res_10['params'])):\n",
    "    ans_10 += f\"{res_10['params'][i]:.4f}*{res_10['names'][i]} + \"\n",
    "ans_10 += str(format(res_10['intercept'], '.4f'))\n",
    "result_table.loc[len(result_table)] = [ans_10, res_10['quantile'], res_10['adj_r2'], res_10['mae'], res_10['mre'], res_10['error_variance']]\n",
    "res_10"
   ]
  },
  {
   "cell_type": "code",
   "execution_count": 99,
   "metadata": {},
   "outputs": [
    {
     "data": {
      "text/plain": [
       "{'names': array(['length', 'commonlength', 'maxder', 'speed', 'weight', 'load',\n",
       "        'weight/load'], dtype=object),\n",
       " 'intercept': 3.515134846928383,\n",
       " 'params': array([-4.58715266e-01,  3.45188696e-01,  3.90998833e-02,  7.49786157e-02,\n",
       "         1.88125611e-03, -8.07967323e+00, -3.75241991e-06]),\n",
       " 'quantile': 0.5,\n",
       " 'y': array([ 1,  1,  4, 10,  1,  4,  2,  1,  5,  2,  1,  3,  6,  3,  2,  1,  1,\n",
       "         2,  3,  1, 22,  7,  3,  1,  3,  2,  3,  4,  1,  1,  4,  9,  2,  1,\n",
       "         3,  1,  2,  6,  1,  1], dtype=int64),\n",
       " 'y_pred': array([2.76429386, 1.        , 1.96271896, 3.85175774, 1.15357649,\n",
       "        4.        , 4.92661879, 1.        , 3.33813874, 2.        ,\n",
       "        0.13931391, 3.47917713, 5.23257464, 2.49649583, 1.17434684,\n",
       "        2.28409256, 1.        , 4.52017769, 2.22341059, 2.69582882,\n",
       "        7.46255921, 4.98278872, 2.84608331, 4.89488219, 2.7974514 ,\n",
       "        4.42007049, 0.28668578, 4.        , 2.30015067, 1.89776555,\n",
       "        3.16442986, 2.3318471 , 2.        , 2.8939173 , 5.05733983,\n",
       "        1.24849541, 2.        , 3.86517156, 0.9681095 , 1.99607444]),\n",
       " 'r2': 0.320007177871633,\n",
       " 'adj_r2': 0.1712587480310528,\n",
       " 'mae': 1.6852144384527974,\n",
       " 'mre': 0.6375591803929057,\n",
       " 'error_variance': 11.72934493732204}"
      ]
     },
     "execution_count": 99,
     "metadata": {},
     "output_type": "execute_result"
    }
   ],
   "source": [
    "# Тест 11\n",
    "\n",
    "dd = df[['length', 'commonlength', 'maxder', 'dcar', 'speed', 'weight', 'load']].copy()\n",
    "dd['weight/load'] = dd['weight']/dd['load']\n",
    "res_11 = solve(dd, quantile=0.5)\n",
    "ans_11 = \"dcar = \"\n",
    "for i in range(len(res_11['params'])):\n",
    "    ans_11 += f\"{res_11['params'][i]:.4f}*{res_11['names'][i]} + \"\n",
    "ans_11 += str(format(res_11['intercept'], '.4f'))\n",
    "result_table.loc[len(result_table)] = [ans_11, res_11['quantile'], res_11['adj_r2'], res_11['mae'], res_11['mre'], res_11['error_variance']]\n",
    "res_11"
   ]
  },
  {
   "cell_type": "code",
   "execution_count": 100,
   "metadata": {},
   "outputs": [
    {
     "data": {
      "text/plain": [
       "{'names': array(['length', 'commonlength', 'maxder', 'speed', 'weight', 'load',\n",
       "        'weight/load'], dtype=object),\n",
       " 'intercept': 2.4503560169652925,\n",
       " 'params': array([-1.24248858e+00,  1.10727371e+00,  5.05074907e-02,  8.27082151e-02,\n",
       "         2.33421881e-03, -9.64495826e+00, -5.82697329e-06]),\n",
       " 'quantile': 0.75,\n",
       " 'y': array([ 1,  1,  4, 10,  1,  4,  2,  1,  5,  2,  1,  3,  6,  3,  2,  1,  1,\n",
       "         2,  3,  1, 22,  7,  3,  1,  3,  2,  3,  4,  1,  1,  4,  9,  2,  1,\n",
       "         3,  1,  2,  6,  1,  1], dtype=int64),\n",
       " 'y_pred': array([3.58041048, 1.        , 2.11206567, 4.45576671, 1.99842279,\n",
       "        4.79011958, 5.10265064, 1.06434409, 5.54073445, 2.17922175,\n",
       "        0.17113322, 4.41562077, 6.        , 3.        , 1.62443809,\n",
       "        2.97755826, 2.19419835, 6.50737318, 4.03716809, 3.16312873,\n",
       "        9.67972768, 7.        , 3.        , 7.01306455, 4.87136333,\n",
       "        4.97773077, 1.0314992 , 5.17612388, 3.32594607, 3.08381221,\n",
       "        4.        , 3.50762434, 2.4921945 , 4.80206603, 6.47323774,\n",
       "        3.06509347, 2.        , 6.        , 1.14274943, 2.42255243]),\n",
       " 'r2': 0.33812329282597353,\n",
       " 'adj_r2': 0.1933377631316553,\n",
       " 'mae': 1.9203657668405278,\n",
       " 'mre': 0.9882816992030472,\n",
       " 'error_variance': 11.416856107574475}"
      ]
     },
     "execution_count": 100,
     "metadata": {},
     "output_type": "execute_result"
    }
   ],
   "source": [
    "# Тест 12\n",
    "\n",
    "dd = df[['length', 'commonlength', 'maxder', 'dcar', 'speed', 'weight', 'load']].copy()\n",
    "dd['weight/load'] = dd['weight']/dd['load']\n",
    "res_12 = solve(dd, quantile=0.75)\n",
    "ans_12 = \"dcar = \"\n",
    "for i in range(len(res_12['params'])):\n",
    "    ans_12 += f\"{res_12['params'][i]:.4f}*{res_12['names'][i]} + \"\n",
    "ans_12 += str(format(res_12['intercept'], '.4f'))\n",
    "result_table.loc[len(result_table)] = [ans_12, res_12['quantile'], res_12['adj_r2'], res_12['mae'], res_12['mre'], res_12['error_variance']]\n",
    "res_12"
   ]
  },
  {
   "cell_type": "code",
   "execution_count": 101,
   "metadata": {},
   "outputs": [
    {
     "data": {
      "text/plain": [
       "{'names': array(['length', 'commonlength', 'maxder', 'speed', 'load', 'speed2',\n",
       "        'maxder3'], dtype=object),\n",
       " 'intercept': 1.3840535167049364,\n",
       " 'params': array([-5.28795081e-02,  4.50918445e-02,  7.48419500e-04,  4.81017323e-03,\n",
       "        -2.30265783e-01,  1.46620333e-04,  1.01233711e-06]),\n",
       " 'quantile': 0.25,\n",
       " 'y': array([ 1,  1,  4, 10,  1,  4,  2,  1,  5,  2,  1,  3,  6,  3,  2,  1,  1,\n",
       "         2,  3,  1, 22,  7,  3,  1,  3,  2,  3,  4,  1,  1,  4,  9,  2,  1,\n",
       "         3,  1,  2,  6,  1,  1], dtype=int64),\n",
       " 'y_pred': array([1.09175885, 1.18694793, 1.31623651, 1.33887144, 1.        ,\n",
       "        1.36034139, 2.        , 0.99897954, 1.02821758, 2.        ,\n",
       "        0.82743653, 1.00561604, 1.72273739, 0.98982483, 0.79406401,\n",
       "        1.        , 1.13188364, 1.4645616 , 1.05689052, 1.24482063,\n",
       "        2.5378972 , 0.78361919, 1.473972  , 1.24151679, 0.98423937,\n",
       "        1.42134641, 0.97671559, 1.07687975, 1.        , 1.        ,\n",
       "        1.0772548 , 1.20897881, 1.14148251, 1.25129219, 1.71470184,\n",
       "        0.83697075, 1.40468753, 1.29569564, 1.        , 1.        ]),\n",
       " 'r2': -0.21017714746631966,\n",
       " 'adj_r2': -0.4749033984745772,\n",
       " 'mae': 2.107750031376978,\n",
       " 'mre': 0.40564647419039507,\n",
       " 'error_variance': 20.874610342897554}"
      ]
     },
     "execution_count": 101,
     "metadata": {},
     "output_type": "execute_result"
    }
   ],
   "source": [
    "# Тест 13\n",
    "dd = df[['length', 'commonlength', 'maxder', 'speed', 'weight', 'load', 'dcar']].copy().dropna()\n",
    "dd['speed2'] = dd['speed']**2\n",
    "dd['maxder3'] = dd['maxder']**3\n",
    "dd = dd.drop(['weight'], axis=1)\n",
    "res_13 = solve(dd, quantile=0.25)\n",
    "ans_13 = \"dcar = \"\n",
    "for i in range(len(res_13['params'])):\n",
    "    ans_13 += f\"{res_13['params'][i]:.4f}*{res_13['names'][i]} + \"\n",
    "ans_13 += str(format(res_13['intercept'], '.4f'))\n",
    "result_table.loc[len(result_table)] = [ans_13, res_13['quantile'], res_13['adj_r2'], res_13['mae'], res_13['mre'], res_13['error_variance']]\n",
    "res_13"
   ]
  },
  {
   "cell_type": "code",
   "execution_count": 102,
   "metadata": {},
   "outputs": [
    {
     "data": {
      "text/plain": [
       "{'names': array(['length', 'commonlength', 'maxder', 'speed', 'load', 'speed2',\n",
       "        'maxder3'], dtype=object),\n",
       " 'intercept': 0.3611867288451994,\n",
       " 'params': array([-5.65220015e-01,  5.42536947e-01,  6.79091769e-02, -3.08193687e-02,\n",
       "         6.62516392e-01,  1.56456822e-03, -4.03971359e-06]),\n",
       " 'quantile': 0.5,\n",
       " 'y': array([ 1,  1,  4, 10,  1,  4,  2,  1,  5,  2,  1,  3,  6,  3,  2,  1,  1,\n",
       "         2,  3,  1, 22,  7,  3,  1,  3,  2,  3,  4,  1,  1,  4,  9,  2,  1,\n",
       "         3,  1,  2,  6,  1,  1], dtype=int64),\n",
       " 'y_pred': array([3.46825924, 1.75249817, 3.01798317, 3.47563202, 1.97939701,\n",
       "        3.83291541, 7.00004274, 0.8366318 , 3.6310235 , 2.        ,\n",
       "        0.18487787, 3.        , 6.        , 2.02758625, 2.        ,\n",
       "        3.41390381, 1.        , 4.13738558, 2.89143067, 3.3910765 ,\n",
       "        9.84701094, 2.07055237, 2.37881448, 4.11402003, 3.        ,\n",
       "        2.80021479, 1.60434324, 3.74538041, 1.        , 3.15902353,\n",
       "        3.3399105 , 4.03615863, 3.71505553, 4.1564931 , 5.89096355,\n",
       "        1.70821647, 2.        , 4.2940843 , 2.21990055, 2.32842105]),\n",
       " 'r2': 0.38727733500042383,\n",
       " 'adj_r2': 0.2532442520317666,\n",
       " 'mae': 1.775513401795744,\n",
       " 'mre': 0.8006742351700664,\n",
       " 'error_variance': 10.568987281660656}"
      ]
     },
     "execution_count": 102,
     "metadata": {},
     "output_type": "execute_result"
    }
   ],
   "source": [
    "# Тест 14\n",
    "dd = df[['length', 'commonlength', 'maxder', 'speed', 'weight', 'load', 'dcar']].copy().dropna()\n",
    "dd['speed2'] = dd['speed']**2\n",
    "dd['maxder3'] = dd['maxder']**3\n",
    "dd = dd.drop(['weight'], axis=1)\n",
    "res_14 = solve(dd, quantile=0.5)\n",
    "ans_14 = \"dcar = \"\n",
    "for i in range(len(res_14['params'])):\n",
    "    ans_14 += f\"{res_14['params'][i]:.4f}*{res_14['names'][i]} + \"\n",
    "ans_14 += str(format(res_14['intercept'], '.4f'))\n",
    "result_table.loc[len(result_table)] = [ans_14, res_14['quantile'], res_14['adj_r2'], res_14['mae'], res_14['mre'], res_14['error_variance']]\n",
    "res_14"
   ]
  },
  {
   "cell_type": "code",
   "execution_count": 103,
   "metadata": {},
   "outputs": [
    {
     "data": {
      "text/plain": [
       "{'names': array(['length', 'commonlength', 'maxder', 'speed', 'weight', 'load',\n",
       "        'maxder3'], dtype=object),\n",
       " 'intercept': 1.3719989604920284,\n",
       " 'params': array([-9.70249469e-01,  8.72110032e-01,  7.79648882e-02,  9.57224299e-02,\n",
       "         1.63410719e-03, -7.38917011e+00, -5.02289132e-06]),\n",
       " 'quantile': 0.75,\n",
       " 'y': array([ 1,  1,  4, 10,  1,  4,  2,  1,  5,  2,  1,  3,  6,  3,  2,  1,  1,\n",
       "         2,  3,  1, 22,  7,  3,  1,  3,  2,  3,  4,  1,  1,  4,  9,  2,  1,\n",
       "         3,  1,  2,  6,  1,  1], dtype=int64),\n",
       " 'y_pred': array([ 3.38479179,  1.        ,  3.52790592,  5.12448425,  2.13805577,\n",
       "         5.12610294,  7.55987318,  1.        ,  5.        ,  2.        ,\n",
       "        -0.39060354,  4.37731653,  6.        ,  3.20065127,  1.31834214,\n",
       "         2.98325669,  2.35829723,  6.91426487,  3.79389922,  3.63181815,\n",
       "        11.06085841,  5.69381999,  3.        ,  5.60646321,  4.10605676,\n",
       "         5.16958056,  0.41381239,  4.60197963,  3.14396409,  2.93207719,\n",
       "         4.        ,  3.73762857,  2.89840424,  4.79229069,  6.19163702,\n",
       "         1.60639062,  4.59961307,  6.        ,  2.45346764,  2.61219436]),\n",
       " 'r2': 0.3856200717621372,\n",
       " 'adj_r2': 0.25122446246010466,\n",
       " 'mae': 1.9674049641442248,\n",
       " 'mre': 1.033418796338321,\n",
       " 'error_variance': 10.597573777784197}"
      ]
     },
     "execution_count": 103,
     "metadata": {},
     "output_type": "execute_result"
    }
   ],
   "source": [
    "# Тест 15\n",
    "dd = df[['length', 'commonlength', 'maxder', 'speed', 'weight', 'load', 'dcar']].copy().dropna()\n",
    "dd['maxder3'] = dd['maxder']**3\n",
    "res_15 = solve(dd, quantile=0.75)\n",
    "ans_15 = \"dcar = \"\n",
    "for i in range(len(res_15['params'])):\n",
    "    ans_15 += f\"{res_15['params'][i]:.4f}*{res_15['names'][i]} + \"\n",
    "ans_15 += str(format(res_15['intercept'], '.4f'))\n",
    "result_table.loc[len(result_table)] = [ans_15, res_15['quantile'], res_15['adj_r2'], res_15['mae'], res_15['mre'], res_15['error_variance']]\n",
    "res_15"
   ]
  },
  {
   "cell_type": "code",
   "execution_count": 108,
   "metadata": {},
   "outputs": [
    {
     "data": {
      "text/html": [
       "<style type=\"text/css\">\n",
       "#T_97c69_row5_col2 {\n",
       "  background-color: grey;\n",
       "}\n",
       "</style>\n",
       "<table id=\"T_97c69\">\n",
       "  <thead>\n",
       "    <tr>\n",
       "      <th class=\"blank level0\" >&nbsp;</th>\n",
       "      <th id=\"T_97c69_level0_col0\" class=\"col_heading level0 col0\" >Зависимость</th>\n",
       "      <th id=\"T_97c69_level0_col1\" class=\"col_heading level0 col1\" >Уровень</th>\n",
       "      <th id=\"T_97c69_level0_col2\" class=\"col_heading level0 col2\" >R^2_adj</th>\n",
       "      <th id=\"T_97c69_level0_col3\" class=\"col_heading level0 col3\" >Δ</th>\n",
       "      <th id=\"T_97c69_level0_col4\" class=\"col_heading level0 col4\" >𝛿</th>\n",
       "      <th id=\"T_97c69_level0_col5\" class=\"col_heading level0 col5\" >𝜎̂^2</th>\n",
       "    </tr>\n",
       "  </thead>\n",
       "  <tbody>\n",
       "    <tr>\n",
       "      <th id=\"T_97c69_level0_row0\" class=\"row_heading level0 row0\" >0</th>\n",
       "      <td id=\"T_97c69_row0_col0\" class=\"data row0 col0\" >dcar = 0.0169*speed + 0.8305</td>\n",
       "      <td id=\"T_97c69_row0_col1\" class=\"data row0 col1\" >0.250000</td>\n",
       "      <td id=\"T_97c69_row0_col2\" class=\"data row0 col2\" >-0.2762</td>\n",
       "      <td id=\"T_97c69_row0_col3\" class=\"data row0 col3\" >2.1530</td>\n",
       "      <td id=\"T_97c69_row0_col4\" class=\"data row0 col4\" >0.4297</td>\n",
       "      <td id=\"T_97c69_row0_col5\" class=\"data row0 col5\" >18.0620</td>\n",
       "    </tr>\n",
       "    <tr>\n",
       "      <th id=\"T_97c69_level0_row1\" class=\"row_heading level0 row1\" >1</th>\n",
       "      <td id=\"T_97c69_row1_col0\" class=\"data row1 col0\" >dcar = 0.0769*speed + 0.6923</td>\n",
       "      <td id=\"T_97c69_row1_col1\" class=\"data row1 col1\" >0.500000</td>\n",
       "      <td id=\"T_97c69_row1_col2\" class=\"data row1 col2\" >0.1369</td>\n",
       "      <td id=\"T_97c69_row1_col3\" class=\"data row1 col3\" >1.9327</td>\n",
       "      <td id=\"T_97c69_row1_col4\" class=\"data row1 col4\" >0.6103</td>\n",
       "      <td id=\"T_97c69_row1_col5\" class=\"data row1 col5\" >12.2157</td>\n",
       "    </tr>\n",
       "    <tr>\n",
       "      <th id=\"T_97c69_level0_row2\" class=\"row_heading level0 row2\" >2</th>\n",
       "      <td id=\"T_97c69_row2_col0\" class=\"data row2 col0\" >dcar = 0.1667*speed + 1.3333</td>\n",
       "      <td id=\"T_97c69_row2_col1\" class=\"data row2 col1\" >0.750000</td>\n",
       "      <td id=\"T_97c69_row2_col2\" class=\"data row2 col2\" >-0.0544</td>\n",
       "      <td id=\"T_97c69_row2_col3\" class=\"data row2 col3\" >2.7917</td>\n",
       "      <td id=\"T_97c69_row2_col4\" class=\"data row2 col4\" >1.5485</td>\n",
       "      <td id=\"T_97c69_row2_col5\" class=\"data row2 col5\" >14.9225</td>\n",
       "    </tr>\n",
       "    <tr>\n",
       "      <th id=\"T_97c69_level0_row3\" class=\"row_heading level0 row3\" >3</th>\n",
       "      <td id=\"T_97c69_row3_col0\" class=\"data row3 col0\" >dcar = 0.0176*speed + 0.0033*maxder + 0.6944</td>\n",
       "      <td id=\"T_97c69_row3_col1\" class=\"data row3 col1\" >0.250000</td>\n",
       "      <td id=\"T_97c69_row3_col2\" class=\"data row3 col2\" >-0.2989</td>\n",
       "      <td id=\"T_97c69_row3_col3\" class=\"data row3 col3\" >2.1534</td>\n",
       "      <td id=\"T_97c69_row3_col4\" class=\"data row3 col4\" >0.4328</td>\n",
       "      <td id=\"T_97c69_row3_col5\" class=\"data row3 col5\" >18.3838</td>\n",
       "    </tr>\n",
       "    <tr>\n",
       "      <th id=\"T_97c69_level0_row4\" class=\"row_heading level0 row4\" >4</th>\n",
       "      <td id=\"T_97c69_row4_col0\" class=\"data row4 col0\" >dcar = 0.0334*speed + 0.0308*maxder + 0.7715</td>\n",
       "      <td id=\"T_97c69_row4_col1\" class=\"data row4 col1\" >0.500000</td>\n",
       "      <td id=\"T_97c69_row4_col2\" class=\"data row4 col2\" >0.1216</td>\n",
       "      <td id=\"T_97c69_row4_col3\" class=\"data row4 col3\" >1.9057</td>\n",
       "      <td id=\"T_97c69_row4_col4\" class=\"data row4 col4\" >0.6853</td>\n",
       "      <td id=\"T_97c69_row4_col5\" class=\"data row4 col5\" >12.4328</td>\n",
       "    </tr>\n",
       "    <tr>\n",
       "      <th id=\"T_97c69_level0_row5\" class=\"row_heading level0 row5\" >5</th>\n",
       "      <td id=\"T_97c69_row5_col0\" class=\"data row5 col0\" >dcar = 0.0902*speed + 0.0388*maxder + 0.6003</td>\n",
       "      <td id=\"T_97c69_row5_col1\" class=\"data row5 col1\" >0.750000</td>\n",
       "      <td id=\"T_97c69_row5_col2\" class=\"data row5 col2\" >0.2691</td>\n",
       "      <td id=\"T_97c69_row5_col3\" class=\"data row5 col3\" >2.1423</td>\n",
       "      <td id=\"T_97c69_row5_col4\" class=\"data row5 col4\" >1.0955</td>\n",
       "      <td id=\"T_97c69_row5_col5\" class=\"data row5 col5\" >10.3452</td>\n",
       "    </tr>\n",
       "    <tr>\n",
       "      <th id=\"T_97c69_level0_row6\" class=\"row_heading level0 row6\" >6</th>\n",
       "      <td id=\"T_97c69_row6_col0\" class=\"data row6 col0\" >dcar = -0.0992*length + 0.0586*commonlength + 0.0030*maxder + 0.0196*speed + 0.0006*weight + -2.6809*load + 2.3087</td>\n",
       "      <td id=\"T_97c69_row6_col1\" class=\"data row6 col1\" >0.250000</td>\n",
       "      <td id=\"T_97c69_row6_col2\" class=\"data row6 col2\" >-0.4069</td>\n",
       "      <td id=\"T_97c69_row6_col3\" class=\"data row6 col3\" >2.0578</td>\n",
       "      <td id=\"T_97c69_row6_col4\" class=\"data row6 col4\" >0.4070</td>\n",
       "      <td id=\"T_97c69_row6_col5\" class=\"data row6 col5\" >19.9117</td>\n",
       "    </tr>\n",
       "    <tr>\n",
       "      <th id=\"T_97c69_level0_row7\" class=\"row_heading level0 row7\" >7</th>\n",
       "      <td id=\"T_97c69_row7_col0\" class=\"data row7 col0\" >dcar = -0.3388*length + 0.2694*commonlength + 0.0260*maxder + 0.0303*speed + 0.0014*weight + -4.9037*load + 1.7621</td>\n",
       "      <td id=\"T_97c69_row7_col1\" class=\"data row7 col1\" >0.500000</td>\n",
       "      <td id=\"T_97c69_row7_col2\" class=\"data row7 col2\" >-0.0353</td>\n",
       "      <td id=\"T_97c69_row7_col3\" class=\"data row7 col3\" >1.7053</td>\n",
       "      <td id=\"T_97c69_row7_col4\" class=\"data row7 col4\" >0.5605</td>\n",
       "      <td id=\"T_97c69_row7_col5\" class=\"data row7 col5\" >14.6525</td>\n",
       "    </tr>\n",
       "    <tr>\n",
       "      <th id=\"T_97c69_level0_row8\" class=\"row_heading level0 row8\" >8</th>\n",
       "      <td id=\"T_97c69_row8_col0\" class=\"data row8 col0\" >dcar = -1.2420*length + 1.1060*commonlength + 0.0505*maxder + 0.0827*speed + 0.0023*weight + -9.6443*load + 2.4520</td>\n",
       "      <td id=\"T_97c69_row8_col1\" class=\"data row8 col1\" >0.750000</td>\n",
       "      <td id=\"T_97c69_row8_col2\" class=\"data row8 col2\" >0.2279</td>\n",
       "      <td id=\"T_97c69_row8_col3\" class=\"data row8 col3\" >2.0245</td>\n",
       "      <td id=\"T_97c69_row8_col4\" class=\"data row8 col4\" >1.0637</td>\n",
       "      <td id=\"T_97c69_row8_col5\" class=\"data row8 col5\" >10.9280</td>\n",
       "    </tr>\n",
       "    <tr>\n",
       "      <th id=\"T_97c69_level0_row9\" class=\"row_heading level0 row9\" >9</th>\n",
       "      <td id=\"T_97c69_row9_col0\" class=\"data row9 col0\" >dcar = -0.1009*length + 0.0600*commonlength + 0.0030*maxder + 0.0196*speed + 0.0006*weight + -2.6945*load + -0.0000*weight/load + 2.3200</td>\n",
       "      <td id=\"T_97c69_row9_col1\" class=\"data row9 col1\" >0.250000</td>\n",
       "      <td id=\"T_97c69_row9_col2\" class=\"data row9 col2\" >-0.4500</td>\n",
       "      <td id=\"T_97c69_row9_col3\" class=\"data row9 col3\" >2.0571</td>\n",
       "      <td id=\"T_97c69_row9_col4\" class=\"data row9 col4\" >0.4071</td>\n",
       "      <td id=\"T_97c69_row9_col5\" class=\"data row9 col5\" >20.5228</td>\n",
       "    </tr>\n",
       "    <tr>\n",
       "      <th id=\"T_97c69_level0_row10\" class=\"row_heading level0 row10\" >10</th>\n",
       "      <td id=\"T_97c69_row10_col0\" class=\"data row10 col0\" >dcar = -0.4587*length + 0.3452*commonlength + 0.0391*maxder + 0.0750*speed + 0.0019*weight + -8.0797*load + -0.0000*weight/load + 3.5151</td>\n",
       "      <td id=\"T_97c69_row10_col1\" class=\"data row10 col1\" >0.500000</td>\n",
       "      <td id=\"T_97c69_row10_col2\" class=\"data row10 col2\" >0.1713</td>\n",
       "      <td id=\"T_97c69_row10_col3\" class=\"data row10 col3\" >1.6852</td>\n",
       "      <td id=\"T_97c69_row10_col4\" class=\"data row10 col4\" >0.6376</td>\n",
       "      <td id=\"T_97c69_row10_col5\" class=\"data row10 col5\" >11.7293</td>\n",
       "    </tr>\n",
       "    <tr>\n",
       "      <th id=\"T_97c69_level0_row11\" class=\"row_heading level0 row11\" >11</th>\n",
       "      <td id=\"T_97c69_row11_col0\" class=\"data row11 col0\" >dcar = -1.2425*length + 1.1073*commonlength + 0.0505*maxder + 0.0827*speed + 0.0023*weight + -9.6450*load + -0.0000*weight/load + 2.4504</td>\n",
       "      <td id=\"T_97c69_row11_col1\" class=\"data row11 col1\" >0.750000</td>\n",
       "      <td id=\"T_97c69_row11_col2\" class=\"data row11 col2\" >0.1933</td>\n",
       "      <td id=\"T_97c69_row11_col3\" class=\"data row11 col3\" >1.9204</td>\n",
       "      <td id=\"T_97c69_row11_col4\" class=\"data row11 col4\" >0.9883</td>\n",
       "      <td id=\"T_97c69_row11_col5\" class=\"data row11 col5\" >11.4169</td>\n",
       "    </tr>\n",
       "    <tr>\n",
       "      <th id=\"T_97c69_level0_row12\" class=\"row_heading level0 row12\" >12</th>\n",
       "      <td id=\"T_97c69_row12_col0\" class=\"data row12 col0\" >dcar = -0.0529*length + 0.0451*commonlength + 0.0007*maxder + 0.0048*speed + -0.2303*load + 0.0001*speed2 + 0.0000*maxder3 + 1.3841</td>\n",
       "      <td id=\"T_97c69_row12_col1\" class=\"data row12 col1\" >0.250000</td>\n",
       "      <td id=\"T_97c69_row12_col2\" class=\"data row12 col2\" >-0.4749</td>\n",
       "      <td id=\"T_97c69_row12_col3\" class=\"data row12 col3\" >2.1078</td>\n",
       "      <td id=\"T_97c69_row12_col4\" class=\"data row12 col4\" >0.4056</td>\n",
       "      <td id=\"T_97c69_row12_col5\" class=\"data row12 col5\" >20.8746</td>\n",
       "    </tr>\n",
       "    <tr>\n",
       "      <th id=\"T_97c69_level0_row13\" class=\"row_heading level0 row13\" >13</th>\n",
       "      <td id=\"T_97c69_row13_col0\" class=\"data row13 col0\" >dcar = -0.5652*length + 0.5425*commonlength + 0.0679*maxder + -0.0308*speed + 0.6625*load + 0.0016*speed2 + -0.0000*maxder3 + 0.3612</td>\n",
       "      <td id=\"T_97c69_row13_col1\" class=\"data row13 col1\" >0.500000</td>\n",
       "      <td id=\"T_97c69_row13_col2\" class=\"data row13 col2\" >0.2532</td>\n",
       "      <td id=\"T_97c69_row13_col3\" class=\"data row13 col3\" >1.7755</td>\n",
       "      <td id=\"T_97c69_row13_col4\" class=\"data row13 col4\" >0.8007</td>\n",
       "      <td id=\"T_97c69_row13_col5\" class=\"data row13 col5\" >10.5690</td>\n",
       "    </tr>\n",
       "    <tr>\n",
       "      <th id=\"T_97c69_level0_row14\" class=\"row_heading level0 row14\" >14</th>\n",
       "      <td id=\"T_97c69_row14_col0\" class=\"data row14 col0\" >dcar = -0.9702*length + 0.8721*commonlength + 0.0780*maxder + 0.0957*speed + 0.0016*weight + -7.3892*load + -0.0000*maxder3 + 1.3720</td>\n",
       "      <td id=\"T_97c69_row14_col1\" class=\"data row14 col1\" >0.750000</td>\n",
       "      <td id=\"T_97c69_row14_col2\" class=\"data row14 col2\" >0.2512</td>\n",
       "      <td id=\"T_97c69_row14_col3\" class=\"data row14 col3\" >1.9674</td>\n",
       "      <td id=\"T_97c69_row14_col4\" class=\"data row14 col4\" >1.0334</td>\n",
       "      <td id=\"T_97c69_row14_col5\" class=\"data row14 col5\" >10.5976</td>\n",
       "    </tr>\n",
       "  </tbody>\n",
       "</table>\n"
      ],
      "text/plain": [
       "<pandas.io.formats.style.Styler at 0x23692ac8110>"
      ]
     },
     "execution_count": 108,
     "metadata": {},
     "output_type": "execute_result"
    }
   ],
   "source": [
    "styled_results = result_table.style \\\n",
    "    .format(\"{:.4f}\", subset=[\"R^2_adj\"]) \\\n",
    "    .format(\"{:.4f}\", subset=[\"Δ\"]) \\\n",
    "    .format(\"{:.4f}\", subset=[\"𝛿\"]) \\\n",
    "    .format(\"{:.4f}\", subset=[\"𝜎̂^2\"]) \\\n",
    "    .highlight_max(color=\"grey\", subset=[\"R^2_adj\"])  \n",
    "\n",
    "styled_results"
   ]
  },
  {
   "cell_type": "markdown",
   "metadata": {},
   "source": [
    "Для шестого набора столбцов $x$ и квантильной регрессии $0.75$ была построена наилучшая оценка, если судить по значению скорректированного коэффициента детерминации. Разобьем данные на обучающую и тестовую выборки, обучим модель и проверим, насколько она точна."
   ]
  },
  {
   "cell_type": "code",
   "execution_count": null,
   "metadata": {},
   "outputs": [],
   "source": [
    "def predict_dcar(df, quantile=0.5):\n",
    "    X = df.drop('dcar', axis=1)\n",
    "    y = df['dcar']\n",
    "    X_train, X_test, y_train, y_test = train_test_split(X, y, test_size=0.3)\n",
    "    model = QuantileRegressor(quantile=quantile, alpha=0)\n",
    "    model.fit(X_train, y_train)\n",
    "    y_train_pred = model.predict(X_train)\n",
    "    n_train = X_train.shape[0]\n",
    "    p_train = X_train.shape[1]\n",
    "    r2_train = model.score(X_train, y_train)\n",
    "    adj_r2_train = 1 - (1-r2_train)*(n_train-1)/(n_train-p_train-1)\n",
    "    mae_train = mean_absolute_error(y_train, y_train_pred)\n",
    "    mre_train = np.mean([abs((true - pred)/true) if true != 0 else 0 \n",
    "                for true, pred in zip(y_train, y_train_pred)])\n",
    "    error_variance_train = np.var(y_train - y_train_pred, ddof=p_train+1)\n",
    "    y_test_pred = model.predict(X_test)\n",
    "    n_test = X_test.shape[0]\n",
    "    p_test = X_test.shape[1]\n",
    "    r2_test = model.score(X_test, y_test)\n",
    "    adj_r2_test = 1 - (1-r2_test)*(n_test-1)/(n_test-p_test-1)\n",
    "    mae_test = mean_absolute_error(y_test, y_test_pred)\n",
    "    mre_test = np.mean([abs((true - pred)/true) if true != 0 else 0 \n",
    "                for true, pred in zip(y_test, y_test_pred)])\n",
    "    error_variance_test = np.var(y_test - y_test_pred, ddof=p_test+1)\n",
    "    \n",
    "    return {\n",
    "        'params': model.coef_,\n",
    "        'y_train': y_train.to_numpy(),\n",
    "        'y_train_pred': y_train_pred,\n",
    "        'y_test': y_test.to_numpy(),\n",
    "        'y_test_pred': y_test_pred,\n",
    "        'r2_train': r2_train,\n",
    "        'adj_r2_train': adj_r2_train,\n",
    "        'mae_train': mae_train,\n",
    "        'mre_train': mre_train,\n",
    "        'error_variance_train': error_variance_train,\n",
    "        'r2_test': r2_test,\n",
    "        'adj_r2_test': adj_r2_test,\n",
    "        'mae_test': mae_test,\n",
    "        'mre_test': mre_test,\n",
    "        'error_variance_test': error_variance_test\n",
    "    }"
   ]
  },
  {
   "cell_type": "code",
   "execution_count": 110,
   "metadata": {},
   "outputs": [
    {
     "data": {
      "text/plain": [
       "{'params': array([0.16770186, 0.05175983]),\n",
       " 'y_train': array([ 2,  1, 22,  1,  1,  2, 10,  3,  1,  4,  4,  2,  1,  4,  6,  2,  1,\n",
       "         4,  3,  7,  1,  2,  1,  1,  1,  3,  1,  1], dtype=int64),\n",
       " 'y_train_pred': array([11.82608696,  2.65424431, 14.3747412 ,  4.81573499,  2.85093168,\n",
       "         0.43478261,  5.94616977,  3.        ,  5.0621118 ,  4.69772257,\n",
       "         6.05175983,  3.80538302,  1.        ,  3.84679089, 10.35196687,\n",
       "         7.89026915,  0.83436853,  4.        ,  3.72463768,  4.20082816,\n",
       "         3.80331263,  2.27743271,  2.9689441 ,  4.06418219,  3.76604555,\n",
       "         4.33540373,  1.75983437,  2.70600414]),\n",
       " 'y_test': array([9, 1, 3, 3, 3, 1, 1, 5, 6, 2, 2, 3], dtype=int64),\n",
       " 'y_test_pred': array([ 3.43064182,  3.93995859,  1.82815735,  0.80538302,  2.85921325,\n",
       "        -0.47204969, -0.25258799,  3.59627329,  4.52795031,  5.6873706 ,\n",
       "         3.64803313,  9.69358178]),\n",
       " 'r2_train': 0.35691307894591007,\n",
       " 'adj_r2_train': 0.3054661252615829,\n",
       " 'mae_train': 2.4205116829340434,\n",
       " 'mre_train': 1.3424542996193394,\n",
       " 'error_variance_train': 10.842181616547961,\n",
       " 'r2_test': -0.8451489948322539,\n",
       " 'adj_r2_test': -1.2551821047949772,\n",
       " 'mae_test': 2.4704968944099375,\n",
       " 'mre_test': 1.073123226746415,\n",
       " 'error_variance_test': 12.761491469093414}"
      ]
     },
     "execution_count": 110,
     "metadata": {},
     "output_type": "execute_result"
    }
   ],
   "source": [
    "dd = df[['speed', 'maxder', 'dcar']].copy().dropna()\n",
    "res = predict_dcar(dd, quantile=0.75)\n",
    "res"
   ]
  },
  {
   "cell_type": "markdown",
   "metadata": {},
   "source": [
    "### Заключение"
   ]
  },
  {
   "cell_type": "markdown",
   "metadata": {},
   "source": [
    "Для рассматриваемых входных данных была применена модель квантильной регрессии для прогнозирования количества подвижных единиц грузового поезда, сошедших с рельсов. Наилучшим образом показала себя модель с параметрами `speed` и `maxder`. Скорректированный коэффициент детерминации $R^2_{adj}$ в случае обучения модели на всех данных равен $0.2691$. После разделения выборки на обучающую и тестовую результат на обучающей выборке улучшился - $R^2_{adj} = 0.3055$, на тестовой, наоборот, ухудшился - $R^2_{adj} = -0.8451$. Это может быть связано с тем, что модель переобучилась на обучающей выборке."
   ]
  }
 ],
 "metadata": {
  "kernelspec": {
   "display_name": "Python 3",
   "language": "python",
   "name": "python3"
  },
  "language_info": {
   "codemirror_mode": {
    "name": "ipython",
    "version": 3
   },
   "file_extension": ".py",
   "mimetype": "text/x-python",
   "name": "python",
   "nbconvert_exporter": "python",
   "pygments_lexer": "ipython3",
   "version": "3.12.0"
  }
 },
 "nbformat": 4,
 "nbformat_minor": 2
}
